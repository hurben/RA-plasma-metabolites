{
 "cells": [
  {
   "cell_type": "code",
   "execution_count": 1,
   "metadata": {},
   "outputs": [
    {
     "name": "stderr",
     "output_type": "stream",
     "text": [
      "Loading required package: Matrix\n",
      "\n",
      "\n",
      "Attaching package: ‘lmerTest’\n",
      "\n",
      "\n",
      "The following object is masked from ‘package:lme4’:\n",
      "\n",
      "    lmer\n",
      "\n",
      "\n",
      "The following object is masked from ‘package:stats’:\n",
      "\n",
      "    step\n",
      "\n",
      "\n"
     ]
    }
   ],
   "source": [
    "library(lme4)\n",
    "library(lmerTest)\n",
    "library(stringr)\n"
   ]
  },
  {
   "cell_type": "code",
   "execution_count": 3,
   "metadata": {},
   "outputs": [],
   "source": [
    "data_profile <- read.csv('/Users/m221138/RA_plasma_metabolites/data/crp_effect_70_met_profile.txt', row.names = 1, header=TRUE, sep=\"\\t\")\n",
    "data_profile <- as.data.frame(t(data_profile))\n",
    "output_file <- '/Users/m221138/RA_plasma_metabolites/data/crp_70_met_profile.results.tsv'\n"
   ]
  },
  {
   "cell_type": "code",
   "execution_count": 4,
   "metadata": {},
   "outputs": [
    {
     "data": {
      "text/html": [
       "<table>\n",
       "<caption>A data.frame: 6 × 74</caption>\n",
       "<thead>\n",
       "\t<tr><th></th><th scope=col>patient_dummyID</th><th scope=col>SEX</th><th scope=col>AGE</th><th scope=col>crp</th><th scope=col>100002254</th><th scope=col>100000257</th><th scope=col>1114</th><th scope=col>100001987</th><th scope=col>100006438</th><th scope=col>565</th><th scope=col>⋯</th><th scope=col>100002911</th><th scope=col>1489</th><th scope=col>100001624</th><th scope=col>100001104</th><th scope=col>100020866</th><th scope=col>100020578</th><th scope=col>100001510</th><th scope=col>100001767</th><th scope=col>171</th><th scope=col>344</th></tr>\n",
       "\t<tr><th></th><th scope=col>&lt;dbl&gt;</th><th scope=col>&lt;dbl&gt;</th><th scope=col>&lt;dbl&gt;</th><th scope=col>&lt;dbl&gt;</th><th scope=col>&lt;dbl&gt;</th><th scope=col>&lt;dbl&gt;</th><th scope=col>&lt;dbl&gt;</th><th scope=col>&lt;dbl&gt;</th><th scope=col>&lt;dbl&gt;</th><th scope=col>&lt;dbl&gt;</th><th scope=col>⋯</th><th scope=col>&lt;dbl&gt;</th><th scope=col>&lt;dbl&gt;</th><th scope=col>&lt;dbl&gt;</th><th scope=col>&lt;dbl&gt;</th><th scope=col>&lt;dbl&gt;</th><th scope=col>&lt;dbl&gt;</th><th scope=col>&lt;dbl&gt;</th><th scope=col>&lt;dbl&gt;</th><th scope=col>&lt;dbl&gt;</th><th scope=col>&lt;dbl&gt;</th></tr>\n",
       "</thead>\n",
       "<tbody>\n",
       "\t<tr><th scope=row>ST.00010415_t1</th><td>0</td><td>1</td><td>75</td><td>2.9</td><td> 4.2646</td><td>1.5674</td><td>1.1205</td><td>3.5054</td><td>6.8041</td><td>1.1514</td><td>⋯</td><td>1.6174</td><td>5.8065</td><td>7.5180</td><td>2.3718</td><td>4.2787</td><td>1.1127</td><td>2.8148</td><td>1.5577</td><td>0.0243</td><td>1.3874</td></tr>\n",
       "\t<tr><th scope=row>ST.00010415_t2</th><td>0</td><td>1</td><td>76</td><td>2.9</td><td> 0.7423</td><td>1.8382</td><td>1.0876</td><td>4.6969</td><td>2.3653</td><td>0.9390</td><td>⋯</td><td>0.9193</td><td>0.5310</td><td>5.2210</td><td>1.4633</td><td>4.7451</td><td>0.9388</td><td>2.6375</td><td>0.8981</td><td>0.2159</td><td>1.3073</td></tr>\n",
       "\t<tr><th scope=row>ST.00010421_t1</th><td>1</td><td>1</td><td>70</td><td>4.3</td><td>10.7037</td><td>0.8284</td><td>0.9650</td><td>0.8481</td><td>0.2249</td><td>1.2451</td><td>⋯</td><td>1.3136</td><td>7.5976</td><td>1.0292</td><td>1.1518</td><td>1.7638</td><td>1.0662</td><td>0.7221</td><td>3.1478</td><td>0.1789</td><td>1.3242</td></tr>\n",
       "\t<tr><th scope=row>ST.00010421_t2</th><td>1</td><td>1</td><td>71</td><td>2.9</td><td> 0.8509</td><td>0.7866</td><td>0.8319</td><td>1.2303</td><td>0.2257</td><td>1.2811</td><td>⋯</td><td>3.3806</td><td>0.4750</td><td>1.6897</td><td>0.8480</td><td>1.4401</td><td>2.2574</td><td>1.4132</td><td>0.5696</td><td>0.4390</td><td>1.1715</td></tr>\n",
       "\t<tr><th scope=row>ST.00011458_t1</th><td>2</td><td>0</td><td>69</td><td>2.9</td><td> 2.2357</td><td>1.1446</td><td>0.3046</td><td>0.0204</td><td>1.0083</td><td>1.1338</td><td>⋯</td><td>0.3923</td><td>2.7211</td><td>7.2482</td><td>0.8064</td><td>0.9498</td><td>1.6519</td><td>0.9553</td><td>1.2109</td><td>0.1584</td><td>1.0916</td></tr>\n",
       "\t<tr><th scope=row>ST.00011458_t2</th><td>2</td><td>0</td><td>69</td><td>2.9</td><td> 0.5838</td><td>0.9489</td><td>0.3600</td><td>0.0204</td><td>1.0188</td><td>1.1957</td><td>⋯</td><td>2.5219</td><td>0.4712</td><td>0.2433</td><td>0.8661</td><td>0.9348</td><td>9.3012</td><td>1.5982</td><td>0.3697</td><td>1.0086</td><td>1.5167</td></tr>\n",
       "</tbody>\n",
       "</table>\n"
      ],
      "text/latex": [
       "A data.frame: 6 × 74\n",
       "\\begin{tabular}{r|lllllllllllllllllllll}\n",
       "  & patient\\_dummyID & SEX & AGE & crp & 100002254 & 100000257 & 1114 & 100001987 & 100006438 & 565 & ⋯ & 100002911 & 1489 & 100001624 & 100001104 & 100020866 & 100020578 & 100001510 & 100001767 & 171 & 344\\\\\n",
       "  & <dbl> & <dbl> & <dbl> & <dbl> & <dbl> & <dbl> & <dbl> & <dbl> & <dbl> & <dbl> & ⋯ & <dbl> & <dbl> & <dbl> & <dbl> & <dbl> & <dbl> & <dbl> & <dbl> & <dbl> & <dbl>\\\\\n",
       "\\hline\n",
       "\tST.00010415\\_t1 & 0 & 1 & 75 & 2.9 &  4.2646 & 1.5674 & 1.1205 & 3.5054 & 6.8041 & 1.1514 & ⋯ & 1.6174 & 5.8065 & 7.5180 & 2.3718 & 4.2787 & 1.1127 & 2.8148 & 1.5577 & 0.0243 & 1.3874\\\\\n",
       "\tST.00010415\\_t2 & 0 & 1 & 76 & 2.9 &  0.7423 & 1.8382 & 1.0876 & 4.6969 & 2.3653 & 0.9390 & ⋯ & 0.9193 & 0.5310 & 5.2210 & 1.4633 & 4.7451 & 0.9388 & 2.6375 & 0.8981 & 0.2159 & 1.3073\\\\\n",
       "\tST.00010421\\_t1 & 1 & 1 & 70 & 4.3 & 10.7037 & 0.8284 & 0.9650 & 0.8481 & 0.2249 & 1.2451 & ⋯ & 1.3136 & 7.5976 & 1.0292 & 1.1518 & 1.7638 & 1.0662 & 0.7221 & 3.1478 & 0.1789 & 1.3242\\\\\n",
       "\tST.00010421\\_t2 & 1 & 1 & 71 & 2.9 &  0.8509 & 0.7866 & 0.8319 & 1.2303 & 0.2257 & 1.2811 & ⋯ & 3.3806 & 0.4750 & 1.6897 & 0.8480 & 1.4401 & 2.2574 & 1.4132 & 0.5696 & 0.4390 & 1.1715\\\\\n",
       "\tST.00011458\\_t1 & 2 & 0 & 69 & 2.9 &  2.2357 & 1.1446 & 0.3046 & 0.0204 & 1.0083 & 1.1338 & ⋯ & 0.3923 & 2.7211 & 7.2482 & 0.8064 & 0.9498 & 1.6519 & 0.9553 & 1.2109 & 0.1584 & 1.0916\\\\\n",
       "\tST.00011458\\_t2 & 2 & 0 & 69 & 2.9 &  0.5838 & 0.9489 & 0.3600 & 0.0204 & 1.0188 & 1.1957 & ⋯ & 2.5219 & 0.4712 & 0.2433 & 0.8661 & 0.9348 & 9.3012 & 1.5982 & 0.3697 & 1.0086 & 1.5167\\\\\n",
       "\\end{tabular}\n"
      ],
      "text/markdown": [
       "\n",
       "A data.frame: 6 × 74\n",
       "\n",
       "| <!--/--> | patient_dummyID &lt;dbl&gt; | SEX &lt;dbl&gt; | AGE &lt;dbl&gt; | crp &lt;dbl&gt; | 100002254 &lt;dbl&gt; | 100000257 &lt;dbl&gt; | 1114 &lt;dbl&gt; | 100001987 &lt;dbl&gt; | 100006438 &lt;dbl&gt; | 565 &lt;dbl&gt; | ⋯ ⋯ | 100002911 &lt;dbl&gt; | 1489 &lt;dbl&gt; | 100001624 &lt;dbl&gt; | 100001104 &lt;dbl&gt; | 100020866 &lt;dbl&gt; | 100020578 &lt;dbl&gt; | 100001510 &lt;dbl&gt; | 100001767 &lt;dbl&gt; | 171 &lt;dbl&gt; | 344 &lt;dbl&gt; |\n",
       "|---|---|---|---|---|---|---|---|---|---|---|---|---|---|---|---|---|---|---|---|---|---|\n",
       "| ST.00010415_t1 | 0 | 1 | 75 | 2.9 |  4.2646 | 1.5674 | 1.1205 | 3.5054 | 6.8041 | 1.1514 | ⋯ | 1.6174 | 5.8065 | 7.5180 | 2.3718 | 4.2787 | 1.1127 | 2.8148 | 1.5577 | 0.0243 | 1.3874 |\n",
       "| ST.00010415_t2 | 0 | 1 | 76 | 2.9 |  0.7423 | 1.8382 | 1.0876 | 4.6969 | 2.3653 | 0.9390 | ⋯ | 0.9193 | 0.5310 | 5.2210 | 1.4633 | 4.7451 | 0.9388 | 2.6375 | 0.8981 | 0.2159 | 1.3073 |\n",
       "| ST.00010421_t1 | 1 | 1 | 70 | 4.3 | 10.7037 | 0.8284 | 0.9650 | 0.8481 | 0.2249 | 1.2451 | ⋯ | 1.3136 | 7.5976 | 1.0292 | 1.1518 | 1.7638 | 1.0662 | 0.7221 | 3.1478 | 0.1789 | 1.3242 |\n",
       "| ST.00010421_t2 | 1 | 1 | 71 | 2.9 |  0.8509 | 0.7866 | 0.8319 | 1.2303 | 0.2257 | 1.2811 | ⋯ | 3.3806 | 0.4750 | 1.6897 | 0.8480 | 1.4401 | 2.2574 | 1.4132 | 0.5696 | 0.4390 | 1.1715 |\n",
       "| ST.00011458_t1 | 2 | 0 | 69 | 2.9 |  2.2357 | 1.1446 | 0.3046 | 0.0204 | 1.0083 | 1.1338 | ⋯ | 0.3923 | 2.7211 | 7.2482 | 0.8064 | 0.9498 | 1.6519 | 0.9553 | 1.2109 | 0.1584 | 1.0916 |\n",
       "| ST.00011458_t2 | 2 | 0 | 69 | 2.9 |  0.5838 | 0.9489 | 0.3600 | 0.0204 | 1.0188 | 1.1957 | ⋯ | 2.5219 | 0.4712 | 0.2433 | 0.8661 | 0.9348 | 9.3012 | 1.5982 | 0.3697 | 1.0086 | 1.5167 |\n",
       "\n"
      ],
      "text/plain": [
       "               patient_dummyID SEX AGE crp 100002254 100000257 1114   100001987\n",
       "ST.00010415_t1 0               1   75  2.9  4.2646   1.5674    1.1205 3.5054   \n",
       "ST.00010415_t2 0               1   76  2.9  0.7423   1.8382    1.0876 4.6969   \n",
       "ST.00010421_t1 1               1   70  4.3 10.7037   0.8284    0.9650 0.8481   \n",
       "ST.00010421_t2 1               1   71  2.9  0.8509   0.7866    0.8319 1.2303   \n",
       "ST.00011458_t1 2               0   69  2.9  2.2357   1.1446    0.3046 0.0204   \n",
       "ST.00011458_t2 2               0   69  2.9  0.5838   0.9489    0.3600 0.0204   \n",
       "               100006438 565    ⋯ 100002911 1489   100001624 100001104\n",
       "ST.00010415_t1 6.8041    1.1514 ⋯ 1.6174    5.8065 7.5180    2.3718   \n",
       "ST.00010415_t2 2.3653    0.9390 ⋯ 0.9193    0.5310 5.2210    1.4633   \n",
       "ST.00010421_t1 0.2249    1.2451 ⋯ 1.3136    7.5976 1.0292    1.1518   \n",
       "ST.00010421_t2 0.2257    1.2811 ⋯ 3.3806    0.4750 1.6897    0.8480   \n",
       "ST.00011458_t1 1.0083    1.1338 ⋯ 0.3923    2.7211 7.2482    0.8064   \n",
       "ST.00011458_t2 1.0188    1.1957 ⋯ 2.5219    0.4712 0.2433    0.8661   \n",
       "               100020866 100020578 100001510 100001767 171    344   \n",
       "ST.00010415_t1 4.2787    1.1127    2.8148    1.5577    0.0243 1.3874\n",
       "ST.00010415_t2 4.7451    0.9388    2.6375    0.8981    0.2159 1.3073\n",
       "ST.00010421_t1 1.7638    1.0662    0.7221    3.1478    0.1789 1.3242\n",
       "ST.00010421_t2 1.4401    2.2574    1.4132    0.5696    0.4390 1.1715\n",
       "ST.00011458_t1 0.9498    1.6519    0.9553    1.2109    0.1584 1.0916\n",
       "ST.00011458_t2 0.9348    9.3012    1.5982    0.3697    1.0086 1.5167"
      ]
     },
     "metadata": {},
     "output_type": "display_data"
    }
   ],
   "source": [
    "head(data_profile)\n",
    "data()"
   ]
  },
  {
   "cell_type": "code",
   "execution_count": 5,
   "metadata": {},
   "outputs": [],
   "source": [
    "NUM_CHEM_ID <- ncol(data_profile)"
   ]
  },
  {
   "cell_type": "code",
   "execution_count": 11,
   "metadata": {},
   "outputs": [
    {
     "data": {
      "text/html": [
       "TRUE"
      ],
      "text/latex": [
       "TRUE"
      ],
      "text/markdown": [
       "TRUE"
      ],
      "text/plain": [
       "[1] TRUE"
      ]
     },
     "metadata": {},
     "output_type": "display_data"
    },
    {
     "name": "stdout",
     "output_type": "stream",
     "text": [
      "[1] \"100002254\"\n"
     ]
    },
    {
     "name": "stderr",
     "output_type": "stream",
     "text": [
      "Warning message in cor.test.default(x = crp_list, y = chem_profile, method = \"spearman\"):\n",
      "“Cannot compute exact p-value with ties”\n",
      "boundary (singular) fit: see ?isSingular\n",
      "\n"
     ]
    },
    {
     "name": "stdout",
     "output_type": "stream",
     "text": [
      "[1] \"100000257\"\n"
     ]
    },
    {
     "name": "stderr",
     "output_type": "stream",
     "text": [
      "Warning message in cor.test.default(x = crp_list, y = chem_profile, method = \"spearman\"):\n",
      "“Cannot compute exact p-value with ties”\n"
     ]
    },
    {
     "name": "stdout",
     "output_type": "stream",
     "text": [
      "[1] \"1114\"\n"
     ]
    },
    {
     "name": "stderr",
     "output_type": "stream",
     "text": [
      "Warning message in cor.test.default(x = crp_list, y = chem_profile, method = \"spearman\"):\n",
      "“Cannot compute exact p-value with ties”\n"
     ]
    },
    {
     "name": "stdout",
     "output_type": "stream",
     "text": [
      "[1] \"100001987\"\n"
     ]
    },
    {
     "name": "stderr",
     "output_type": "stream",
     "text": [
      "Warning message in cor.test.default(x = crp_list, y = chem_profile, method = \"spearman\"):\n",
      "“Cannot compute exact p-value with ties”\n"
     ]
    },
    {
     "name": "stdout",
     "output_type": "stream",
     "text": [
      "[1] \"100006438\"\n"
     ]
    },
    {
     "name": "stderr",
     "output_type": "stream",
     "text": [
      "Warning message in cor.test.default(x = crp_list, y = chem_profile, method = \"spearman\"):\n",
      "“Cannot compute exact p-value with ties”\n"
     ]
    },
    {
     "name": "stdout",
     "output_type": "stream",
     "text": [
      "[1] \"565\"\n"
     ]
    },
    {
     "name": "stderr",
     "output_type": "stream",
     "text": [
      "Warning message in cor.test.default(x = crp_list, y = chem_profile, method = \"spearman\"):\n",
      "“Cannot compute exact p-value with ties”\n"
     ]
    },
    {
     "name": "stdout",
     "output_type": "stream",
     "text": [
      "[1] \"100020546\"\n"
     ]
    },
    {
     "name": "stderr",
     "output_type": "stream",
     "text": [
      "Warning message in cor.test.default(x = crp_list, y = chem_profile, method = \"spearman\"):\n",
      "“Cannot compute exact p-value with ties”\n"
     ]
    },
    {
     "name": "stdout",
     "output_type": "stream",
     "text": [
      "[1] \"100001254\"\n"
     ]
    },
    {
     "name": "stderr",
     "output_type": "stream",
     "text": [
      "Warning message in cor.test.default(x = crp_list, y = chem_profile, method = \"spearman\"):\n",
      "“Cannot compute exact p-value with ties”\n"
     ]
    },
    {
     "name": "stdout",
     "output_type": "stream",
     "text": [
      "[1] \"100004575\"\n"
     ]
    },
    {
     "name": "stderr",
     "output_type": "stream",
     "text": [
      "Warning message in cor.test.default(x = crp_list, y = chem_profile, method = \"spearman\"):\n",
      "“Cannot compute exact p-value with ties”\n"
     ]
    },
    {
     "name": "stdout",
     "output_type": "stream",
     "text": [
      "[1] \"100001092\"\n"
     ]
    },
    {
     "name": "stderr",
     "output_type": "stream",
     "text": [
      "Warning message in cor.test.default(x = crp_list, y = chem_profile, method = \"spearman\"):\n",
      "“Cannot compute exact p-value with ties”\n"
     ]
    },
    {
     "name": "stdout",
     "output_type": "stream",
     "text": [
      "[1] \"100003151\"\n"
     ]
    },
    {
     "name": "stderr",
     "output_type": "stream",
     "text": [
      "Warning message in cor.test.default(x = crp_list, y = chem_profile, method = \"spearman\"):\n",
      "“Cannot compute exact p-value with ties”\n"
     ]
    },
    {
     "name": "stdout",
     "output_type": "stream",
     "text": [
      "[1] \"803\"\n"
     ]
    },
    {
     "name": "stderr",
     "output_type": "stream",
     "text": [
      "Warning message in cor.test.default(x = crp_list, y = chem_profile, method = \"spearman\"):\n",
      "“Cannot compute exact p-value with ties”\n"
     ]
    },
    {
     "name": "stdout",
     "output_type": "stream",
     "text": [
      "[1] \"796\"\n"
     ]
    },
    {
     "name": "stderr",
     "output_type": "stream",
     "text": [
      "Warning message in cor.test.default(x = crp_list, y = chem_profile, method = \"spearman\"):\n",
      "“Cannot compute exact p-value with ties”\n"
     ]
    },
    {
     "name": "stdout",
     "output_type": "stream",
     "text": [
      "[1] \"100004208\"\n"
     ]
    },
    {
     "name": "stderr",
     "output_type": "stream",
     "text": [
      "Warning message in cor.test.default(x = crp_list, y = chem_profile, method = \"spearman\"):\n",
      "“Cannot compute exact p-value with ties”\n"
     ]
    },
    {
     "name": "stdout",
     "output_type": "stream",
     "text": [
      "[1] \"100001266\"\n"
     ]
    },
    {
     "name": "stderr",
     "output_type": "stream",
     "text": [
      "Warning message in cor.test.default(x = crp_list, y = chem_profile, method = \"spearman\"):\n",
      "“Cannot compute exact p-value with ties”\n"
     ]
    },
    {
     "name": "stdout",
     "output_type": "stream",
     "text": [
      "[1] \"415\"\n"
     ]
    },
    {
     "name": "stderr",
     "output_type": "stream",
     "text": [
      "Warning message in cor.test.default(x = crp_list, y = chem_profile, method = \"spearman\"):\n",
      "“Cannot compute exact p-value with ties”\n"
     ]
    },
    {
     "name": "stdout",
     "output_type": "stream",
     "text": [
      "[1] \"100008933\"\n"
     ]
    },
    {
     "name": "stderr",
     "output_type": "stream",
     "text": [
      "Warning message in cor.test.default(x = crp_list, y = chem_profile, method = \"spearman\"):\n",
      "“Cannot compute exact p-value with ties”\n"
     ]
    },
    {
     "name": "stdout",
     "output_type": "stream",
     "text": [
      "[1] \"100020425\"\n"
     ]
    },
    {
     "name": "stderr",
     "output_type": "stream",
     "text": [
      "Warning message in cor.test.default(x = crp_list, y = chem_profile, method = \"spearman\"):\n",
      "“Cannot compute exact p-value with ties”\n"
     ]
    },
    {
     "name": "stdout",
     "output_type": "stream",
     "text": [
      "[1] \"100020536\"\n"
     ]
    },
    {
     "name": "stderr",
     "output_type": "stream",
     "text": [
      "Warning message in cor.test.default(x = crp_list, y = chem_profile, method = \"spearman\"):\n",
      "“Cannot compute exact p-value with ties”\n"
     ]
    },
    {
     "name": "stdout",
     "output_type": "stream",
     "text": [
      "[1] \"503\"\n"
     ]
    },
    {
     "name": "stderr",
     "output_type": "stream",
     "text": [
      "Warning message in cor.test.default(x = crp_list, y = chem_profile, method = \"spearman\"):\n",
      "“Cannot compute exact p-value with ties”\n"
     ]
    },
    {
     "name": "stdout",
     "output_type": "stream",
     "text": [
      "[1] \"100020427\"\n"
     ]
    },
    {
     "name": "stderr",
     "output_type": "stream",
     "text": [
      "Warning message in cor.test.default(x = crp_list, y = chem_profile, method = \"spearman\"):\n",
      "“Cannot compute exact p-value with ties”\n"
     ]
    },
    {
     "name": "stdout",
     "output_type": "stream",
     "text": [
      "[1] \"1090\"\n"
     ]
    },
    {
     "name": "stderr",
     "output_type": "stream",
     "text": [
      "Warning message in cor.test.default(x = crp_list, y = chem_profile, method = \"spearman\"):\n",
      "“Cannot compute exact p-value with ties”\n"
     ]
    },
    {
     "name": "stdout",
     "output_type": "stream",
     "text": [
      "[1] \"100001051\"\n"
     ]
    },
    {
     "name": "stderr",
     "output_type": "stream",
     "text": [
      "Warning message in cor.test.default(x = crp_list, y = chem_profile, method = \"spearman\"):\n",
      "“Cannot compute exact p-value with ties”\n"
     ]
    },
    {
     "name": "stdout",
     "output_type": "stream",
     "text": [
      "[1] \"100001253\"\n"
     ]
    },
    {
     "name": "stderr",
     "output_type": "stream",
     "text": [
      "Warning message in cor.test.default(x = crp_list, y = chem_profile, method = \"spearman\"):\n",
      "“Cannot compute exact p-value with ties”\n"
     ]
    },
    {
     "name": "stdout",
     "output_type": "stream",
     "text": [
      "[1] \"100001257\"\n"
     ]
    },
    {
     "name": "stderr",
     "output_type": "stream",
     "text": [
      "Warning message in cor.test.default(x = crp_list, y = chem_profile, method = \"spearman\"):\n",
      "“Cannot compute exact p-value with ties”\n"
     ]
    },
    {
     "name": "stdout",
     "output_type": "stream",
     "text": [
      "[1] \"100004088\"\n"
     ]
    },
    {
     "name": "stderr",
     "output_type": "stream",
     "text": [
      "Warning message in cor.test.default(x = crp_list, y = chem_profile, method = \"spearman\"):\n",
      "“Cannot compute exact p-value with ties”\n"
     ]
    },
    {
     "name": "stdout",
     "output_type": "stream",
     "text": [
      "[1] \"100009082\"\n"
     ]
    },
    {
     "name": "stderr",
     "output_type": "stream",
     "text": [
      "Warning message in cor.test.default(x = crp_list, y = chem_profile, method = \"spearman\"):\n",
      "“Cannot compute exact p-value with ties”\n"
     ]
    },
    {
     "name": "stdout",
     "output_type": "stream",
     "text": [
      "[1] \"1162\"\n"
     ]
    },
    {
     "name": "stderr",
     "output_type": "stream",
     "text": [
      "Warning message in cor.test.default(x = crp_list, y = chem_profile, method = \"spearman\"):\n",
      "“Cannot compute exact p-value with ties”\n"
     ]
    },
    {
     "name": "stdout",
     "output_type": "stream",
     "text": [
      "[1] \"100000096\"\n"
     ]
    },
    {
     "name": "stderr",
     "output_type": "stream",
     "text": [
      "Warning message in cor.test.default(x = crp_list, y = chem_profile, method = \"spearman\"):\n",
      "“Cannot compute exact p-value with ties”\n"
     ]
    },
    {
     "name": "stdout",
     "output_type": "stream",
     "text": [
      "[1] \"363\"\n"
     ]
    },
    {
     "name": "stderr",
     "output_type": "stream",
     "text": [
      "Warning message in cor.test.default(x = crp_list, y = chem_profile, method = \"spearman\"):\n",
      "“Cannot compute exact p-value with ties”\n"
     ]
    },
    {
     "name": "stdout",
     "output_type": "stream",
     "text": [
      "[1] \"100002945\"\n"
     ]
    },
    {
     "name": "stderr",
     "output_type": "stream",
     "text": [
      "Warning message in cor.test.default(x = crp_list, y = chem_profile, method = \"spearman\"):\n",
      "“Cannot compute exact p-value with ties”\n"
     ]
    },
    {
     "name": "stdout",
     "output_type": "stream",
     "text": [
      "[1] \"100002466\"\n"
     ]
    },
    {
     "name": "stderr",
     "output_type": "stream",
     "text": [
      "Warning message in cor.test.default(x = crp_list, y = chem_profile, method = \"spearman\"):\n",
      "“Cannot compute exact p-value with ties”\n"
     ]
    },
    {
     "name": "stdout",
     "output_type": "stream",
     "text": [
      "[1] \"100001577\"\n"
     ]
    },
    {
     "name": "stderr",
     "output_type": "stream",
     "text": [
      "Warning message in cor.test.default(x = crp_list, y = chem_profile, method = \"spearman\"):\n",
      "“Cannot compute exact p-value with ties”\n"
     ]
    },
    {
     "name": "stdout",
     "output_type": "stream",
     "text": [
      "[1] \"100001586\"\n"
     ]
    },
    {
     "name": "stderr",
     "output_type": "stream",
     "text": [
      "Warning message in cor.test.default(x = crp_list, y = chem_profile, method = \"spearman\"):\n",
      "“Cannot compute exact p-value with ties”\n"
     ]
    },
    {
     "name": "stdout",
     "output_type": "stream",
     "text": [
      "[1] \"407\"\n"
     ]
    },
    {
     "name": "stderr",
     "output_type": "stream",
     "text": [
      "Warning message in cor.test.default(x = crp_list, y = chem_profile, method = \"spearman\"):\n",
      "“Cannot compute exact p-value with ties”\n"
     ]
    },
    {
     "name": "stdout",
     "output_type": "stream",
     "text": [
      "[1] \"100021374\"\n"
     ]
    },
    {
     "name": "stderr",
     "output_type": "stream",
     "text": [
      "Warning message in cor.test.default(x = crp_list, y = chem_profile, method = \"spearman\"):\n",
      "“Cannot compute exact p-value with ties”\n"
     ]
    },
    {
     "name": "stdout",
     "output_type": "stream",
     "text": [
      "[1] \"100020204\"\n"
     ]
    },
    {
     "name": "stderr",
     "output_type": "stream",
     "text": [
      "Warning message in cor.test.default(x = crp_list, y = chem_profile, method = \"spearman\"):\n",
      "“Cannot compute exact p-value with ties”\n"
     ]
    },
    {
     "name": "stdout",
     "output_type": "stream",
     "text": [
      "[1] \"100020423\"\n"
     ]
    },
    {
     "name": "stderr",
     "output_type": "stream",
     "text": [
      "Warning message in cor.test.default(x = crp_list, y = chem_profile, method = \"spearman\"):\n",
      "“Cannot compute exact p-value with ties”\n"
     ]
    },
    {
     "name": "stdout",
     "output_type": "stream",
     "text": [
      "[1] \"100003397\"\n"
     ]
    },
    {
     "name": "stderr",
     "output_type": "stream",
     "text": [
      "Warning message in cor.test.default(x = crp_list, y = chem_profile, method = \"spearman\"):\n",
      "“Cannot compute exact p-value with ties”\n"
     ]
    },
    {
     "name": "stdout",
     "output_type": "stream",
     "text": [
      "[1] \"100002488\"\n"
     ]
    },
    {
     "name": "stderr",
     "output_type": "stream",
     "text": [
      "Warning message in cor.test.default(x = crp_list, y = chem_profile, method = \"spearman\"):\n",
      "“Cannot compute exact p-value with ties”\n"
     ]
    },
    {
     "name": "stdout",
     "output_type": "stream",
     "text": [
      "[1] \"100015838\"\n"
     ]
    },
    {
     "name": "stderr",
     "output_type": "stream",
     "text": [
      "Warning message in cor.test.default(x = crp_list, y = chem_profile, method = \"spearman\"):\n",
      "“Cannot compute exact p-value with ties”\n"
     ]
    },
    {
     "name": "stdout",
     "output_type": "stream",
     "text": [
      "[1] \"250\"\n"
     ]
    },
    {
     "name": "stderr",
     "output_type": "stream",
     "text": [
      "Warning message in cor.test.default(x = crp_list, y = chem_profile, method = \"spearman\"):\n",
      "“Cannot compute exact p-value with ties”\n"
     ]
    },
    {
     "name": "stdout",
     "output_type": "stream",
     "text": [
      "[1] \"100001391\"\n"
     ]
    },
    {
     "name": "stderr",
     "output_type": "stream",
     "text": [
      "Warning message in cor.test.default(x = crp_list, y = chem_profile, method = \"spearman\"):\n",
      "“Cannot compute exact p-value with ties”\n"
     ]
    },
    {
     "name": "stdout",
     "output_type": "stream",
     "text": [
      "[1] \"1442\"\n"
     ]
    },
    {
     "name": "stderr",
     "output_type": "stream",
     "text": [
      "Warning message in cor.test.default(x = crp_list, y = chem_profile, method = \"spearman\"):\n",
      "“Cannot compute exact p-value with ties”\n"
     ]
    },
    {
     "name": "stdout",
     "output_type": "stream",
     "text": [
      "[1] \"100003892\"\n"
     ]
    },
    {
     "name": "stderr",
     "output_type": "stream",
     "text": [
      "Warning message in cor.test.default(x = crp_list, y = chem_profile, method = \"spearman\"):\n",
      "“Cannot compute exact p-value with ties”\n"
     ]
    },
    {
     "name": "stdout",
     "output_type": "stream",
     "text": [
      "[1] \"100000042\"\n"
     ]
    },
    {
     "name": "stderr",
     "output_type": "stream",
     "text": [
      "Warning message in cor.test.default(x = crp_list, y = chem_profile, method = \"spearman\"):\n",
      "“Cannot compute exact p-value with ties”\n",
      "boundary (singular) fit: see ?isSingular\n",
      "\n",
      "boundary (singular) fit: see ?isSingular\n",
      "\n"
     ]
    },
    {
     "name": "stdout",
     "output_type": "stream",
     "text": [
      "[1] \"100015831\"\n"
     ]
    },
    {
     "name": "stderr",
     "output_type": "stream",
     "text": [
      "Warning message in cor.test.default(x = crp_list, y = chem_profile, method = \"spearman\"):\n",
      "“Cannot compute exact p-value with ties”\n"
     ]
    },
    {
     "name": "stdout",
     "output_type": "stream",
     "text": [
      "[1] \"100020414\"\n"
     ]
    },
    {
     "name": "stderr",
     "output_type": "stream",
     "text": [
      "Warning message in cor.test.default(x = crp_list, y = chem_profile, method = \"spearman\"):\n",
      "“Cannot compute exact p-value with ties”\n"
     ]
    },
    {
     "name": "stdout",
     "output_type": "stream",
     "text": [
      "[1] \"572\"\n"
     ]
    },
    {
     "name": "stderr",
     "output_type": "stream",
     "text": [
      "Warning message in cor.test.default(x = crp_list, y = chem_profile, method = \"spearman\"):\n",
      "“Cannot compute exact p-value with ties”\n"
     ]
    },
    {
     "name": "stdout",
     "output_type": "stream",
     "text": [
      "[1] \"100020253\"\n"
     ]
    },
    {
     "name": "stderr",
     "output_type": "stream",
     "text": [
      "Warning message in cor.test.default(x = crp_list, y = chem_profile, method = \"spearman\"):\n",
      "“Cannot compute exact p-value with ties”\n"
     ]
    },
    {
     "name": "stdout",
     "output_type": "stream",
     "text": [
      "[1] \"338\"\n"
     ]
    },
    {
     "name": "stderr",
     "output_type": "stream",
     "text": [
      "Warning message in cor.test.default(x = crp_list, y = chem_profile, method = \"spearman\"):\n",
      "“Cannot compute exact p-value with ties”\n"
     ]
    },
    {
     "name": "stdout",
     "output_type": "stream",
     "text": [
      "[1] \"1087\"\n"
     ]
    },
    {
     "name": "stderr",
     "output_type": "stream",
     "text": [
      "Warning message in cor.test.default(x = crp_list, y = chem_profile, method = \"spearman\"):\n",
      "“Cannot compute exact p-value with ties”\n",
      "boundary (singular) fit: see ?isSingular\n",
      "\n"
     ]
    },
    {
     "name": "stdout",
     "output_type": "stream",
     "text": [
      "[1] \"100000010\"\n"
     ]
    },
    {
     "name": "stderr",
     "output_type": "stream",
     "text": [
      "Warning message in cor.test.default(x = crp_list, y = chem_profile, method = \"spearman\"):\n",
      "“Cannot compute exact p-value with ties”\n"
     ]
    },
    {
     "name": "stdout",
     "output_type": "stream",
     "text": [
      "[1] \"100021141\"\n"
     ]
    },
    {
     "name": "stderr",
     "output_type": "stream",
     "text": [
      "Warning message in cor.test.default(x = crp_list, y = chem_profile, method = \"spearman\"):\n",
      "“Cannot compute exact p-value with ties”\n"
     ]
    },
    {
     "name": "stdout",
     "output_type": "stream",
     "text": [
      "[1] \"100001950\"\n"
     ]
    },
    {
     "name": "stderr",
     "output_type": "stream",
     "text": [
      "Warning message in cor.test.default(x = crp_list, y = chem_profile, method = \"spearman\"):\n",
      "“Cannot compute exact p-value with ties”\n"
     ]
    },
    {
     "name": "stdout",
     "output_type": "stream",
     "text": [
      "[1] \"100001635\"\n"
     ]
    },
    {
     "name": "stderr",
     "output_type": "stream",
     "text": [
      "Warning message in cor.test.default(x = crp_list, y = chem_profile, method = \"spearman\"):\n",
      "“Cannot compute exact p-value with ties”\n"
     ]
    },
    {
     "name": "stdout",
     "output_type": "stream",
     "text": [
      "[1] \"100015839\"\n"
     ]
    },
    {
     "name": "stderr",
     "output_type": "stream",
     "text": [
      "Warning message in cor.test.default(x = crp_list, y = chem_profile, method = \"spearman\"):\n",
      "“Cannot compute exact p-value with ties”\n"
     ]
    },
    {
     "name": "stdout",
     "output_type": "stream",
     "text": [
      "[1] \"100001197\"\n"
     ]
    },
    {
     "name": "stderr",
     "output_type": "stream",
     "text": [
      "Warning message in cor.test.default(x = crp_list, y = chem_profile, method = \"spearman\"):\n",
      "“Cannot compute exact p-value with ties”\n"
     ]
    },
    {
     "name": "stdout",
     "output_type": "stream",
     "text": [
      "[1] \"100000939\"\n"
     ]
    },
    {
     "name": "stderr",
     "output_type": "stream",
     "text": [
      "Warning message in cor.test.default(x = crp_list, y = chem_profile, method = \"spearman\"):\n",
      "“Cannot compute exact p-value with ties”\n"
     ]
    },
    {
     "name": "stdout",
     "output_type": "stream",
     "text": [
      "[1] \"100001313\"\n"
     ]
    },
    {
     "name": "stderr",
     "output_type": "stream",
     "text": [
      "Warning message in cor.test.default(x = crp_list, y = chem_profile, method = \"spearman\"):\n",
      "“Cannot compute exact p-value with ties”\n"
     ]
    },
    {
     "name": "stdout",
     "output_type": "stream",
     "text": [
      "[1] \"100002911\"\n"
     ]
    },
    {
     "name": "stderr",
     "output_type": "stream",
     "text": [
      "Warning message in cor.test.default(x = crp_list, y = chem_profile, method = \"spearman\"):\n",
      "“Cannot compute exact p-value with ties”\n"
     ]
    },
    {
     "name": "stdout",
     "output_type": "stream",
     "text": [
      "[1] \"1489\"\n"
     ]
    },
    {
     "name": "stderr",
     "output_type": "stream",
     "text": [
      "Warning message in cor.test.default(x = crp_list, y = chem_profile, method = \"spearman\"):\n",
      "“Cannot compute exact p-value with ties”\n"
     ]
    },
    {
     "name": "stdout",
     "output_type": "stream",
     "text": [
      "[1] \"100001624\"\n"
     ]
    },
    {
     "name": "stderr",
     "output_type": "stream",
     "text": [
      "Warning message in cor.test.default(x = crp_list, y = chem_profile, method = \"spearman\"):\n",
      "“Cannot compute exact p-value with ties”\n"
     ]
    },
    {
     "name": "stdout",
     "output_type": "stream",
     "text": [
      "[1] \"100001104\"\n"
     ]
    },
    {
     "name": "stderr",
     "output_type": "stream",
     "text": [
      "Warning message in cor.test.default(x = crp_list, y = chem_profile, method = \"spearman\"):\n",
      "“Cannot compute exact p-value with ties”\n"
     ]
    },
    {
     "name": "stdout",
     "output_type": "stream",
     "text": [
      "[1] \"100020866\"\n"
     ]
    },
    {
     "name": "stderr",
     "output_type": "stream",
     "text": [
      "Warning message in cor.test.default(x = crp_list, y = chem_profile, method = \"spearman\"):\n",
      "“Cannot compute exact p-value with ties”\n"
     ]
    },
    {
     "name": "stdout",
     "output_type": "stream",
     "text": [
      "[1] \"100020578\"\n"
     ]
    },
    {
     "name": "stderr",
     "output_type": "stream",
     "text": [
      "Warning message in cor.test.default(x = crp_list, y = chem_profile, method = \"spearman\"):\n",
      "“Cannot compute exact p-value with ties”\n",
      "boundary (singular) fit: see ?isSingular\n",
      "\n"
     ]
    },
    {
     "name": "stdout",
     "output_type": "stream",
     "text": [
      "[1] \"100001510\"\n"
     ]
    },
    {
     "name": "stderr",
     "output_type": "stream",
     "text": [
      "Warning message in cor.test.default(x = crp_list, y = chem_profile, method = \"spearman\"):\n",
      "“Cannot compute exact p-value with ties”\n"
     ]
    },
    {
     "name": "stdout",
     "output_type": "stream",
     "text": [
      "[1] \"100001767\"\n"
     ]
    },
    {
     "name": "stderr",
     "output_type": "stream",
     "text": [
      "Warning message in cor.test.default(x = crp_list, y = chem_profile, method = \"spearman\"):\n",
      "“Cannot compute exact p-value with ties”\n"
     ]
    },
    {
     "name": "stdout",
     "output_type": "stream",
     "text": [
      "[1] \"171\"\n"
     ]
    },
    {
     "name": "stderr",
     "output_type": "stream",
     "text": [
      "Warning message in cor.test.default(x = crp_list, y = chem_profile, method = \"spearman\"):\n",
      "“Cannot compute exact p-value with ties”\n"
     ]
    },
    {
     "name": "stdout",
     "output_type": "stream",
     "text": [
      "[1] \"344\"\n"
     ]
    },
    {
     "name": "stderr",
     "output_type": "stream",
     "text": [
      "Warning message in cor.test.default(x = crp_list, y = chem_profile, method = \"spearman\"):\n",
      "“Cannot compute exact p-value with ties”\n"
     ]
    },
    {
     "name": "stdout",
     "output_type": "stream",
     "text": [
      "[1] \"Done\"\n"
     ]
    }
   ],
   "source": [
    "if (file.exists(output_file)){\n",
    "    file.remove(output_file)\n",
    "}\n",
    "\n",
    "cat(\"chemID\\tcrp_LRM\\tcrp_mix1\\tcrp_mix2\\tspearman_pvlue\\tspearman_rho\\n\", file=output_file,append=TRUE)\n",
    "\n",
    "for (i in 1:NUM_CHEM_ID){\n",
    "    if (i > 4){\n",
    "    output_string <- ''\n",
    "    chemID <- colnames(data_profile)[i]\n",
    "    print (chemID)\n",
    "    chem_profile <- data_profile[,i]\n",
    "    crp_list <- data_profile[,4]\n",
    "#     print (chem_profile)\n",
    "        \n",
    "    spearman_test <- cor.test(x = crp_list, y = chem_profile, method=\"spearman\")\n",
    "    spearman_pvalue <- spearman_test$p.value\n",
    "    spearman_rho <- spearman_test$estimate\n",
    "    LRM <- lm(chem_profile ~ crp , data = data_profile)\n",
    "    mix_1 <- lmer(chem_profile ~ crp + (1|patient_dummyID) , data = data_profile)\n",
    "    mix_2 <- lmer(chem_profile ~ crp + SEX + AGE + (1|patient_dummyID) , data = data_profile)    \n",
    "    \n",
    "    LRM_stats <- summary(LRM)$fstatistic\n",
    "    LRM_sig_1 <- pf(LRM_stats[1], LRM_stats[2], LRM_stats[3], lower.tail=FALSE)\n",
    "    mix_sig_1 <- anova(mix_1)$Pr[1]\n",
    "    mix_sig_2 <- anova(mix_2)$Pr[1]\n",
    "    \n",
    "    output_string <- paste(chemID, LRM_sig_1, mix_sig_1, mix_sig_2, spearman_pvalue, spearman_rho, \"\\n\", sep=\"\\t\")\n",
    "#   \n",
    "    \n",
    "    cat(output_string, file=output_file,append=TRUE)\n",
    "    }\n",
    "}\n",
    "\n",
    "print (\"Done\")"
   ]
  },
  {
   "cell_type": "code",
   "execution_count": 8,
   "metadata": {},
   "outputs": [
    {
     "name": "stdout",
     "output_type": "stream",
     "text": [
      "List of 8\n",
      " $ statistic  : Named num 373642\n",
      "  ..- attr(*, \"names\")= chr \"S\"\n",
      " $ parameter  : NULL\n",
      " $ p.value    : num 0.439\n",
      " $ estimate   : Named num -0.0691\n",
      "  ..- attr(*, \"names\")= chr \"rho\"\n",
      " $ null.value : Named num 0\n",
      "  ..- attr(*, \"names\")= chr \"rho\"\n",
      " $ alternative: chr \"two.sided\"\n",
      " $ method     : chr \"Spearman's rank correlation rho\"\n",
      " $ data.name  : chr \"crp_list and chem_profile\"\n",
      " - attr(*, \"class\")= chr \"htest\"\n"
     ]
    }
   ],
   "source": [
    "str(spearman_test)"
   ]
  },
  {
   "cell_type": "code",
   "execution_count": 10,
   "metadata": {},
   "outputs": [
    {
     "data": {
      "text/html": [
       "0.438557525094477"
      ],
      "text/latex": [
       "0.438557525094477"
      ],
      "text/markdown": [
       "0.438557525094477"
      ],
      "text/plain": [
       "[1] 0.4385575"
      ]
     },
     "metadata": {},
     "output_type": "display_data"
    },
    {
     "data": {
      "text/html": [
       "<strong>rho:</strong> -0.0690640795945189"
      ],
      "text/latex": [
       "\\textbf{rho:} -0.0690640795945189"
      ],
      "text/markdown": [
       "**rho:** -0.0690640795945189"
      ],
      "text/plain": [
       "        rho \n",
       "-0.06906408 "
      ]
     },
     "metadata": {},
     "output_type": "display_data"
    }
   ],
   "source": [
    "spearman_test$p.value\n",
    "spearman_test$estimate"
   ]
  },
  {
   "cell_type": "code",
   "execution_count": null,
   "metadata": {},
   "outputs": [],
   "source": []
  }
 ],
 "metadata": {
  "kernelspec": {
   "display_name": "R",
   "language": "R",
   "name": "ir"
  },
  "language_info": {
   "codemirror_mode": "r",
   "file_extension": ".r",
   "mimetype": "text/x-r-source",
   "name": "R",
   "pygments_lexer": "r",
   "version": "3.6.1"
  }
 },
 "nbformat": 4,
 "nbformat_minor": 2
}
