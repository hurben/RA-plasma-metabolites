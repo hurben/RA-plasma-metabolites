{
 "cells": [
  {
   "cell_type": "code",
   "execution_count": 1,
   "metadata": {},
   "outputs": [],
   "source": [
    "import pandas as pd\n",
    "import scipy.stats as stats\n",
    "import seaborn as sns\n",
    "import matplotlib.pyplot as plt\n",
    "import statistics"
   ]
  },
  {
   "cell_type": "code",
   "execution_count": 2,
   "metadata": {},
   "outputs": [],
   "source": [
    "data_file = '../../data/DAM_comfound_effect_test.public.csv'\n",
    "data_df = pd.read_csv(data_file)\n",
    "r, c = data_df.shape\n",
    "data_dict= {}"
   ]
  },
  {
   "cell_type": "code",
   "execution_count": 3,
   "metadata": {},
   "outputs": [],
   "source": [
    "for i in range(r):\n",
    "    patientID = data_df.iloc[i,0]\n",
    "    das28 = data_df.iloc[i,8]\n",
    "    if das28 > 3.2:\n",
    "        disease_state = 'higher'\n",
    "    if das28 <= 3.2:\n",
    "        disease_state = 'lower'\n",
    "    bmi = data_df.iloc[i,1]\n",
    "    if bmi >= 30:\n",
    "        try: data_dict[disease_state,'up_bmi'] += 1\n",
    "        except KeyError: data_dict[disease_state,'up_bmi'] = 1\n",
    "    if bmi < 30:\n",
    "        try: data_dict[disease_state,'down_bmi'] += 1\n",
    "        except KeyError: data_dict[disease_state,'down_bmi'] = 1\n",
    "            \n",
    "    smoke = data_df.iloc[i,2] \n",
    "    if smoke == \"never\":\n",
    "        try: data_dict[disease_state,'never_smoke'] += 1\n",
    "        except KeyError: data_dict[disease_state,'never_smoke'] = 1\n",
    "    if smoke != \"never\":\n",
    "        try: data_dict[disease_state,'smoke'] += 1\n",
    "        except KeyError: data_dict[disease_state,'smoke'] = 1\n",
    "    \n",
    "    mtx = data_df.iloc[i,3]\n",
    "    if mtx == \"yes\":\n",
    "        try: data_dict[disease_state,'yes_mtx'] += 1\n",
    "        except KeyError: data_dict[disease_state,'yes_mtx'] = 1\n",
    "    if mtx == \"no\":\n",
    "        try: data_dict[disease_state,'no_mtx'] += 1\n",
    "        except KeyError: data_dict[disease_state,'no_mtx'] = 1\n",
    "    \n",
    "    csDMARD = data_df.iloc[i,4]\n",
    "    if csDMARD > 0:\n",
    "        try: data_dict[disease_state,'yes_csDMARD'] += 1\n",
    "        except KeyError: data_dict[disease_state,'yes_csDMARD'] = 1\n",
    "    if csDMARD == 0:\n",
    "        try: data_dict[disease_state,'no_csDMARD'] += 1\n",
    "        except KeyError: data_dict[disease_state,'no_csDMARD'] = 1   \n",
    "    \n",
    "    tnf_bDMARD = data_df.iloc[i,5]\n",
    "    if tnf_bDMARD > 0:\n",
    "        try: data_dict[disease_state,'yes_tnf_bDMARD'] += 1\n",
    "        except KeyError: data_dict[disease_state,'yes_tnf_bDMARD'] = 1\n",
    "    if tnf_bDMARD == 0:\n",
    "        try: data_dict[disease_state,'no_tnf_bDMARD'] += 1\n",
    "        except KeyError: data_dict[disease_state,'no_tnf_bDMARD'] = 1 \n",
    "            \n",
    "    ntnf_bDMARD = data_df.iloc[i,6]\n",
    "    if ntnf_bDMARD > 0:\n",
    "        try: data_dict[disease_state,'yes_ntnf_bDMARD'] += 1\n",
    "        except KeyError: data_dict[disease_state,'yes_ntnf_bDMARD'] = 1\n",
    "    if ntnf_bDMARD == 0:\n",
    "        try: data_dict[disease_state,'no_ntnf_bDMARD'] += 1\n",
    "        except KeyError: data_dict[disease_state,'no_ntnf_bDMARD'] = 1 \n",
    "    \n",
    "    pred = data_df.iloc[i,7]\n",
    "    if pred == \"yes\":\n",
    "        try: data_dict[disease_state,'yes_pred'] += 1\n",
    "        except KeyError: data_dict[disease_state,'yes_pred'] = 1\n",
    "    if pred == \"no\":\n",
    "        try: data_dict[disease_state,'no_pred'] += 1\n",
    "        except KeyError: data_dict[disease_state,'no_pred'] = 1\n",
    "\n",
    "    sex = data_df.iloc[i,10]\n",
    "    if sex == \"male\":\n",
    "        try: data_dict[disease_state,'male'] += 1\n",
    "        except KeyError: data_dict[disease_state,'male'] = 1\n",
    "    if sex == \"female\":\n",
    "        try: data_dict[disease_state,'female'] += 1\n",
    "        except KeyError: data_dict[disease_state,'female'] = 1\n",
    "            \n",
    "    age = data_df.iloc[i,9]\n",
    "    if age > 60:\n",
    "        try: data_dict[disease_state,'up_age'] += 1\n",
    "        except KeyError: data_dict[disease_state,'up_age'] = 1\n",
    "    if age <= 60:\n",
    "        try: data_dict[disease_state,'down_age'] += 1\n",
    "        except KeyError: data_dict[disease_state,'down_age'] = 1\n",
    "    "
   ]
  },
  {
   "cell_type": "code",
   "execution_count": 12,
   "metadata": {},
   "outputs": [],
   "source": [
    "def calculate_ftest(disease_status1, disease_status2, boolean_state1, boolean_state2):\n",
    "    contigency_table = [[data_dict[disease_status1,boolean_state1], data_dict[disease_status1,boolean_state2]],\n",
    "    [data_dict[disease_status2,boolean_state1], data_dict[disease_status2,boolean_state2]]]\n",
    "    print (\"X-axis:\", boolean_state1, boolean_state2)\n",
    "    print (\"Y-axis:\", disease_status1, disease_status2)\n",
    "    print (contigency_table)\n",
    "    oddsratio, pvalue = stats.fisher_exact(contigency_table)\n",
    "    print (\"P-value: %s \\nOR: %s\" % (pvalue, oddsratio))"
   ]
  },
  {
   "cell_type": "code",
   "execution_count": 5,
   "metadata": {},
   "outputs": [
    {
     "name": "stdout",
     "output_type": "stream",
     "text": [
      "X-axis: up_bmi down_bmi\n",
      "Y-axis: lower higher\n",
      "[[31, 31], [27, 17]]\n",
      "0.3224522204722362\n"
     ]
    }
   ],
   "source": [
    "#bmi\n",
    "calculate_ftest(\"lower\", \"higher\", \"up_bmi\", \"down_bmi\")"
   ]
  },
  {
   "cell_type": "code",
   "execution_count": 6,
   "metadata": {},
   "outputs": [
    {
     "name": "stdout",
     "output_type": "stream",
     "text": [
      "X-axis: smoke never_smoke\n",
      "Y-axis: lower higher\n",
      "[[48, 28], [28, 24]]\n",
      "0.3601054229206846\n"
     ]
    }
   ],
   "source": [
    "#smoke\n",
    "calculate_ftest(\"lower\", \"higher\", \"smoke\", \"never_smoke\")"
   ]
  },
  {
   "cell_type": "code",
   "execution_count": 7,
   "metadata": {},
   "outputs": [
    {
     "name": "stdout",
     "output_type": "stream",
     "text": [
      "X-axis: yes_mtx no_mtx\n",
      "Y-axis: lower higher\n",
      "[[57, 19], [40, 12]]\n",
      "0.836807660907229\n"
     ]
    }
   ],
   "source": [
    "#mtx\n",
    "calculate_ftest(\"lower\", \"higher\", \"yes_mtx\", \"no_mtx\")"
   ]
  },
  {
   "cell_type": "code",
   "execution_count": 8,
   "metadata": {},
   "outputs": [
    {
     "name": "stdout",
     "output_type": "stream",
     "text": [
      "X-axis: yes_pred no_pred\n",
      "Y-axis: lower higher\n",
      "[[32, 44], [25, 27]]\n",
      "0.5877631845533822\n"
     ]
    }
   ],
   "source": [
    "#pred\n",
    "calculate_ftest(\"lower\", \"higher\", \"yes_pred\", \"no_pred\")"
   ]
  },
  {
   "cell_type": "code",
   "execution_count": 9,
   "metadata": {
    "scrolled": true
   },
   "outputs": [
    {
     "name": "stdout",
     "output_type": "stream",
     "text": [
      "X-axis: yes_csDMARD no_csDMARD\n",
      "Y-axis: lower higher\n",
      "[[29, 47], [18, 34]]\n",
      "0.7126541978420744\n"
     ]
    }
   ],
   "source": [
    "#csDMARD\n",
    "calculate_ftest(\"lower\", \"higher\", \"yes_csDMARD\", \"no_csDMARD\")"
   ]
  },
  {
   "cell_type": "code",
   "execution_count": 10,
   "metadata": {},
   "outputs": [
    {
     "name": "stdout",
     "output_type": "stream",
     "text": [
      "X-axis: yes_tnf_bDMARD no_tnf_bDMARD\n",
      "Y-axis: lower higher\n",
      "[[30, 46], [14, 38]]\n",
      "0.18502943806598376\n"
     ]
    }
   ],
   "source": [
    "#tnf_bDMARD\n",
    "calculate_ftest(\"lower\", \"higher\", \"yes_tnf_bDMARD\", \"no_tnf_bDMARD\")"
   ]
  },
  {
   "cell_type": "code",
   "execution_count": 11,
   "metadata": {},
   "outputs": [
    {
     "name": "stdout",
     "output_type": "stream",
     "text": [
      "X-axis: yes_ntnf_bDMARD no_ntnf_bDMARD\n",
      "Y-axis: lower higher\n",
      "[[7, 69], [6, 46]]\n",
      "0.7685237234875604\n"
     ]
    }
   ],
   "source": [
    "#ntnf_bDMARD\n",
    "calculate_ftest(\"lower\", \"higher\", \"yes_ntnf_bDMARD\", \"no_ntnf_bDMARD\")"
   ]
  },
  {
   "cell_type": "code",
   "execution_count": 13,
   "metadata": {},
   "outputs": [
    {
     "name": "stdout",
     "output_type": "stream",
     "text": [
      "X-axis: female male\n",
      "Y-axis: lower higher\n",
      "[[46, 30], [42, 10]]\n",
      "P-value: 0.019621971974434455 \n",
      "OR: 0.36507936507936506\n"
     ]
    }
   ],
   "source": [
    "#sex\n",
    "calculate_ftest(\"lower\", \"higher\", \"female\", \"male\")"
   ]
  },
  {
   "cell_type": "code",
   "execution_count": 14,
   "metadata": {},
   "outputs": [
    {
     "name": "stdout",
     "output_type": "stream",
     "text": [
      "X-axis: up_age down_age\n",
      "Y-axis: lower higher\n",
      "[[62, 14], [32, 20]]\n",
      "P-value: 0.014783125170186576 \n",
      "OR: 2.767857142857143\n"
     ]
    }
   ],
   "source": [
    "#age\n",
    "calculate_ftest(\"lower\", \"higher\", \"up_age\", \"down_age\")"
   ]
  },
  {
   "cell_type": "code",
   "execution_count": null,
   "metadata": {},
   "outputs": [],
   "source": []
  },
  {
   "cell_type": "code",
   "execution_count": null,
   "metadata": {},
   "outputs": [],
   "source": []
  }
 ],
 "metadata": {
  "kernelspec": {
   "display_name": "Python 3",
   "language": "python",
   "name": "python3"
  },
  "language_info": {
   "codemirror_mode": {
    "name": "ipython",
    "version": 3
   },
   "file_extension": ".py",
   "mimetype": "text/x-python",
   "name": "python",
   "nbconvert_exporter": "python",
   "pygments_lexer": "ipython3",
   "version": "3.7.5"
  }
 },
 "nbformat": 4,
 "nbformat_minor": 2
}
