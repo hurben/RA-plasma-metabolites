{
 "cells": [
  {
   "cell_type": "code",
   "execution_count": 15,
   "metadata": {},
   "outputs": [],
   "source": [
    "temp_list = []\n",
    "\n",
    "ID_idx = 0\n",
    "count = 0\n",
    "\n",
    "for i in range(128):\n",
    "\n",
    "    if count == 1:\n",
    "        count = 0\n",
    "        patientID = 'Temp_' + str(ID_idx)\n",
    "        \n",
    "    else:\n",
    "        ID_idx += 1\n",
    "        count += 1\n",
    "        patientID = 'Temp_' + str(ID_idx)  \n",
    "    \n",
    "    temp_list.append(patientID)"
   ]
  },
  {
   "cell_type": "code",
   "execution_count": 22,
   "metadata": {},
   "outputs": [],
   "source": [
    "import csv\n",
    "\n",
    "with open('/Users/m221138/RA_plasma_metabolites/trash/tempID_list.csv', 'w') as file:\n",
    "    for tempID in temp_list:\n",
    "        file.write(\"%s\\n\" % tempID)"
   ]
  },
  {
   "cell_type": "code",
   "execution_count": null,
   "metadata": {},
   "outputs": [],
   "source": []
  }
 ],
 "metadata": {
  "kernelspec": {
   "display_name": "Python 3",
   "language": "python",
   "name": "python3"
  },
  "language_info": {
   "codemirror_mode": {
    "name": "ipython",
    "version": 3
   },
   "file_extension": ".py",
   "mimetype": "text/x-python",
   "name": "python",
   "nbconvert_exporter": "python",
   "pygments_lexer": "ipython3",
   "version": "3.7.5"
  }
 },
 "nbformat": 4,
 "nbformat_minor": 2
}
