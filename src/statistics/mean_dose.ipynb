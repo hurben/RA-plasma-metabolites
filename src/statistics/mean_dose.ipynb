{
 "cells": [
  {
   "cell_type": "code",
   "execution_count": 111,
   "metadata": {},
   "outputs": [],
   "source": [
    "import pandas as pd\n",
    "import statistics\n",
    "from scipy.stats import iqr\n",
    "\n",
    "info1_file = '/Users/m221138/RA_plasma_metabolites/data/DMARD_prescription_profile_v2.csv'\n",
    "info2_file = '/Users/m221138/RA_plasma_metabolites/data/RA_biobank_2019June17_sheet1.csv'\n",
    "data_file = '/Users/m221138/RA_plasma_metabolites/data/Rheum_Biobank_2_Visits.csv'"
   ]
  },
  {
   "cell_type": "code",
   "execution_count": 95,
   "metadata": {},
   "outputs": [],
   "source": [
    "info1_df = pd.read_csv(info1_file)\n",
    "info2_df = pd.read_csv(info2_file)\n",
    "data_df = pd.read_csv(data_file)\n",
    "\n",
    "patient_info_dict = {}\n",
    "patientID_list = []\n",
    "patientID_info_dict = {}"
   ]
  },
  {
   "cell_type": "code",
   "execution_count": 96,
   "metadata": {},
   "outputs": [],
   "source": [
    "r, c = info1_df.shape\n",
    "for i in range(r):\n",
    "    patientID = info1_df.iloc[i,0]\n",
    "    \n",
    "    if patientID not in patientID_list:\n",
    "        patientID_list.append(patientID)\n",
    "    visit = info1_df.iloc[i,1]\n",
    "    mtx = info1_df.iloc[i,2]\n",
    "    pred = info1_df.iloc[i,17]\n",
    "    patient_info_dict[patientID, visit,\"mtx\"] = mtx\n",
    "    patient_info_dict[patientID, visit,\"pred\"] = pred"
   ]
  },
  {
   "cell_type": "code",
   "execution_count": 97,
   "metadata": {},
   "outputs": [
    {
     "name": "stdout",
     "output_type": "stream",
     "text": [
      "64\n",
      "['ST-00010415', 'ST-00010421', 'ST-00011458', 'ST-00044073', 'ST-00044885', 'ST-00045433', 'ST-00057286', 'ST-00057532', 'ST-00060623', 'ST-00062958', 'ST-00075023', 'ST-00128432', 'ST-00177454', 'ST-00242187', 'ST-00286016', 'ST-00286572', 'ST-00287578', 'ST-00295414', 'ST-00319255', 'ST-00320227', 'ST-00339988', 'ST-00360236', 'ST-00418342', 'ST-00423444', 'ST-00466055', 'ST-00505289', 'ST-00525539', 'ST-00531850', 'ST-00550067', 'ST-00596988', 'ST-00597582', 'ST-00606222', 'ST-00611296', 'ST-00616972', 'ST-00622319', 'ST-00624870', 'ST-00630737', 'ST-00631493', 'ST-00632345', 'ST-00634998', 'ST-00641613', 'ST-00648002', 'ST-00651926', 'ST-00652037', 'ST-00653378', 'ST-00656708', 'ST-00659767', 'ST-00660767', 'ST-00685031', 'ST-00705243', 'ST-00705245', 'ST-00708220', 'ST-00709819', 'ST-00711931', 'ST-00714687', 'ST-00718962', 'ST-00723045', 'ST-00730777', 'ST-00731125', 'ST-00731336', 'ST-00731705', 'ST-00732959', 'ST-00739471', 'ST-00745902']\n"
     ]
    }
   ],
   "source": [
    "print (len(patientID_list))\n",
    "print (patientID_list)"
   ]
  },
  {
   "cell_type": "code",
   "execution_count": 98,
   "metadata": {},
   "outputs": [],
   "source": [
    "info2_df.head()\n",
    "r,c = info2_df.shape\n",
    "mcID_list = []\n",
    "\n",
    "for i in range(r):\n",
    "    patientID = info2_df.iloc[i,0]\n",
    "#     print (patientID)\n",
    "    mcID = info2_df.iloc[i,2]\n",
    "    \n",
    "    if patientID in patientID_list:\n",
    "        if mcID not in mcID_list:\n",
    "            patientID_info_dict[patientID] = mcID\n",
    "            mcID_list.append(mcID)"
   ]
  },
  {
   "cell_type": "code",
   "execution_count": 58,
   "metadata": {},
   "outputs": [
    {
     "name": "stdout",
     "output_type": "stream",
     "text": [
      "64\n",
      "64\n",
      "[2715364, 3025155, 2531748, 1952584, 1728881, 2953603, 2614934, 3709490, 3138082, 1751310, 2536175, 2509601, 3802693, 3430633, 1331643, 1903879, 2464972, 6340182, 4078806, 6397929, 3540375, 4364050, 7176849, 3609406, 3398103, 3425189, 2906656, 3984153, 1806113, 3430782, 6426164, 1890468, 2228154, 8347225, 7074390, 7181912, 3677416, 7318316, 5336919, 7441199, 7047170, 6481216, 9893262, 2227714, 4274053, 6084011, 3518596, 2418423, 6136285, 5435589, 7432029, 6125569, 6202830, 3384920, 1867679, 5380366, 8053229, 6306559, 7020550, 6134399, 3008126, 6112046, 6466177, 7450086]\n"
     ]
    }
   ],
   "source": [
    "data_df.head()\n",
    "print (len(mcID_list))\n",
    "print (len(patientID_list))\n",
    "print (mcID_list)"
   ]
  },
  {
   "cell_type": "code",
   "execution_count": 99,
   "metadata": {},
   "outputs": [],
   "source": [
    "data_df.head()\n",
    "r,c = data_df.shape\n",
    "for i in range(r):\n",
    "    mcID = data_df.iloc[i,1]\n",
    "    try: mcID = int(mcID)\n",
    "    except ValueError: mcID = 0\n",
    "    mtx_dose_mg = data_df['Dose of methotrexate: mg/week (00.0 to 25.0)'][i]\n",
    "    pred_dose_mg = data_df['Current prednisone dose - mg/day (0 to 100)'][i]\n",
    "    visit = data_df['Visit Description'][i]\n",
    "\n",
    "    try:\n",
    "        if '1' in visit:\n",
    "            visit_status = 1\n",
    "        if '2' in visit:\n",
    "            visit_status = 2\n",
    "\n",
    "        patient_info_dict[mcID, visit_status,\"met\"] = mtx_dose_mg\n",
    "        patient_info_dict[mcID, visit_status,\"pred\"] = pred_dose_mg\n",
    "    except TypeError:\n",
    "        None"
   ]
  },
  {
   "cell_type": "code",
   "execution_count": 117,
   "metadata": {},
   "outputs": [
    {
     "name": "stdout",
     "output_type": "stream",
     "text": [
      "MTX visit 1\n",
      "48\n",
      "20.0\n",
      "10.0\n",
      "MTX visit 2\n",
      "49\n",
      "20.0\n",
      "10.0\n",
      "PRED visit 1\n",
      "29\n",
      "[20.0, 25.0, 25.0, 10.0, 17.5, 25.0, 12.5, nan, nan, nan, 20.0, nan, 25.0, 25.0, 20.0, 15.0, 22.5, 25.0, nan, 22.5, 15.0, 10.0, 22.5, 15.0, 20.0, nan, 25.0, 20.0, 25.0]\n",
      "22.5\n",
      "nan\n",
      "PRED visit 2\n",
      "28\n",
      "[20.0, 25.0, 15.0, 17.5, 25.0, 12.5, 22.5, nan, nan, 25.0, nan, 25.0, nan, 25.0, 25.0, 17.5, 20.0, 25.0, nan, 25.0, 15.0, 10.0, 17.5, 25.0, 20.0, 12.5, 25.0, 25.0]\n",
      "22.5\n",
      "nan\n"
     ]
    }
   ],
   "source": [
    "# patient_info_dict[patientID, visit,\"mtx\"] = mtx\n",
    "# patient_info_dict[patientID, visit,\"pred\"] = pred\n",
    "# patientID_info_dict[mcID, \"met\"] = mtx_dose_mg\n",
    "mtx1_list = []\n",
    "mtx2_list = []\n",
    "pred1_list = []\n",
    "pred2_list = []\n",
    "\n",
    "for patientID in patientID_list:\n",
    "#     print (patientID)\n",
    "#     print (patientID_info_dict)\n",
    "    mcID = patientID_info_dict[patientID]\n",
    "\n",
    "    #visit 1\n",
    "    mtx_status = patient_info_dict[patientID, 1, \"mtx\"]\n",
    "    pred_status = patient_info_dict[patientID, 1, \"pred\"]\n",
    "    mtx_dose_mg = patient_info_dict[mcID, 1, \"met\"]\n",
    "    pred_dose_mg = patient_info_dict[mcID, 1, \"met\"]\n",
    "\n",
    "    if mtx_status == \"yes\":\n",
    "        mtx1_list.append(mtx_dose_mg)\n",
    "    if pred_status == \"yes\":\n",
    "        pred1_list.append(pred_dose_mg)\n",
    "    \n",
    "    #visit2\n",
    "    mtx_status = patient_info_dict[patientID, 2, \"mtx\"]\n",
    "    pred_status = patient_info_dict[patientID, 2, \"pred\"]\n",
    "    mtx_dose_mg = patient_info_dict[mcID, 2, \"met\"]\n",
    "    pred_dose_mg = patient_info_dict[mcID, 2, \"met\"]\n",
    "    \n",
    "    if mtx_status == \"yes\":\n",
    "        mtx2_list.append(mtx_dose_mg)\n",
    "    if pred_status == \"yes\":\n",
    "        pred2_list.append(pred_dose_mg)\n",
    "        \n",
    "print (\"MTX visit 1\")\n",
    "print (len(mtx1_list))\n",
    "print (statistics.median(mtx1_list))\n",
    "print(iqr(mtx1_list, rng=(25,75), interpolation='midpoint'))\n",
    "print (\"MTX visit 2\")\n",
    "print (len(mtx2_list))\n",
    "print (statistics.median(mtx2_list))\n",
    "print(iqr(mtx2_list, rng=(25,75), interpolation='midpoint'))\n",
    "print (\"PRED visit 1\")\n",
    "print (len(pred1_list))\n",
    "print (pred1_list)\n",
    "print (statistics.median(pred1_list))\n",
    "print(iqr(pred1_list, rng=(25,75), interpolation='midpoint'))\n",
    "print (\"PRED visit 2\")\n",
    "print (len(pred2_list))\n",
    "print (pred2_list)\n",
    "print (statistics.median(pred2_list))\n",
    "print (iqr(pred2_list, rng=(25,75), interpolation='midpoint'))\n"
   ]
  },
  {
   "cell_type": "code",
   "execution_count": null,
   "metadata": {},
   "outputs": [],
   "source": []
  }
 ],
 "metadata": {
  "kernelspec": {
   "display_name": "Python 3",
   "language": "python",
   "name": "python3"
  },
  "language_info": {
   "codemirror_mode": {
    "name": "ipython",
    "version": 3
   },
   "file_extension": ".py",
   "mimetype": "text/x-python",
   "name": "python",
   "nbconvert_exporter": "python",
   "pygments_lexer": "ipython3",
   "version": "3.7.5"
  }
 },
 "nbformat": 4,
 "nbformat_minor": 2
}
