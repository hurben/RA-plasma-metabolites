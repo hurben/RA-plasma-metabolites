{
 "cells": [
  {
   "cell_type": "code",
   "execution_count": 10,
   "metadata": {},
   "outputs": [],
   "source": [
    "import pandas as pd\n",
    "\n",
    "data_dir = '/Users/m221138/RA_plasma_metabolites/data'\n",
    "\n",
    "drug_profile = 'DAM_comfound_effect_test_v2.csv'\n",
    "metabolic_profile = 'filled_qc_data/MLR.hd4.ready.ignor.norm.qc.fillna.v2.tsv'\n",
    "\n",
    "drug_profile_file = '%s/%s' % (data_dir, drug_profile)\n",
    "metabolic_profile_file = '%s/%s' % (data_dir, metabolic_profile)\n",
    "selection_profile_file = '%s/%s' % (data_dir,'67_metabolites.csv')\n"
   ]
  },
  {
   "cell_type": "code",
   "execution_count": 11,
   "metadata": {},
   "outputs": [],
   "source": [
    "drug_profile_df = pd.read_csv(drug_profile_file)\n",
    "metabolic_profile_df = pd.read_csv(metabolic_profile_file, sep=\"\\t\")\n",
    "selection_profile_df = pd.read_csv(selection_profile_file)"
   ]
  },
  {
   "cell_type": "code",
   "execution_count": 25,
   "metadata": {},
   "outputs": [
    {
     "name": "stdout",
     "output_type": "stream",
     "text": [
      "[100015839, 100020414, 100001104, 100015838, 100001253, 100001950, 100001254, 100020546, 415, 250, 171, 100003151, 100000269, 100001092, 565, 100015831, 100001313, 100001391, 100001266, 100001197, 100001257, 100021141, 100000776, 100000257, 100001620, 503, 100004088, 100020204, 100004575, 100000007, 407, 100001577, 100020361, 100001635, 100002466, 100003397, 344, 100020866, 100002254, 100000939, 100000096, 100000042, 100001586, 100001767, 100008933, 796, 1162, 100020427, 100003892, 100002945, 100001051, 1087, 100002488, 100000010, 803, 1090, 572, 100009082, 100020425, 100020423, 1489, 100001510, 1442, 100002911, 100021374, 338, 363]\n",
      "67\n"
     ]
    }
   ],
   "source": [
    "# selection_profile_df = pd.read_csv(selection_profile_file)\n",
    "metabolite_list = list(selection_profile_df.iloc[:,0])\n",
    "print (metabolite_list)\n",
    "print (len(metabolite_list))"
   ]
  },
  {
   "cell_type": "code",
   "execution_count": 18,
   "metadata": {},
   "outputs": [],
   "source": [
    "def add_row_values_to_dict (data_df, data_dict, key, index):\n",
    "    data_dict[key] = list(data_df.iloc[index,1:])\n",
    "    return data_dict\n",
    "\n",
    "def add_drug_status_to_dict (data_dict, key, value):\n",
    "    \n",
    "    try: data_dict[key].append(value)\n",
    "    except KeyError: data_dict[key] = [value]\n",
    "        \n",
    "    return data_dict"
   ]
  },
  {
   "cell_type": "code",
   "execution_count": 26,
   "metadata": {},
   "outputs": [
    {
     "name": "stdout",
     "output_type": "stream",
     "text": [
      "[100015839, 100020414, 100001104, 100015838, 100001253, 100001950, 100001254, 100020546, 415, 250, 171, 100003151, 100000269, 100001092, 565, 100015831, 100001313, 100001391, 100001266, 100001197, 100001257, 100021141, 100000776, 100000257, 100001620, 503, 100004088, 100020204, 100004575, 100000007, 407, 100001577, 100020361, 100001635, 100002466, 100003397, 344, 100020866, 100002254, 100000939, 100000096, 100000042, 100001586, 100001767, 100008933, 796, 1162, 100020427, 100003892, 100002945, 100001051, 1087, 100002488, 100000010, 803, 1090, 572, 100009082, 100020425, 100020423, 1489, 100001510, 1442, 100002911, 100021374, 338, 363]\n"
     ]
    }
   ],
   "source": [
    "# print (metabolite_list)"
   ]
  },
  {
   "cell_type": "code",
   "execution_count": 20,
   "metadata": {},
   "outputs": [],
   "source": [
    "r, c = metabolic_profile_df.shape\n",
    "data_info_dict = {}\n",
    "patientID_list = list(metabolic_profile_df.columns.values)[1:]\n",
    "\n",
    "for i in range(r):\n",
    "    \n",
    "    index_name = metabolic_profile_df.iloc[i,0]\n",
    "    if i == 0: #patientID\n",
    "        add_row_values_to_dict(metabolic_profile_df, data_info_dict, index_name, i)\n",
    "    if i == 1: #sex\n",
    "        add_row_values_to_dict(metabolic_profile_df, data_info_dict, index_name, i)\n",
    "    if i == 2: #age\n",
    "        add_row_values_to_dict(metabolic_profile_df, data_info_dict, index_name, i)\n",
    "    if i > 5:\n",
    "        index_name = int(index_name)\n",
    "        if index_name in metabolite_list:\n",
    "            add_row_values_to_dict(metabolic_profile_df, data_info_dict, index_name, i)"
   ]
  },
  {
   "cell_type": "code",
   "execution_count": 21,
   "metadata": {},
   "outputs": [],
   "source": [
    "r, c = drug_profile_df.shape\n",
    "\n",
    "for i in range(r):\n",
    "    \n",
    "    mtx_status = drug_profile_df.iloc[i,1]\n",
    "    \n",
    "    if mtx_status == \"yes\":\n",
    "        mtx_status = 1\n",
    "    if mtx_status == \"no\":\n",
    "        mtx_status = 0\n",
    "        \n",
    "    csDMARD_status = drug_profile_df.iloc[i,2]\n",
    "    tnfi_status = drug_profile_df.iloc[i,3]\n",
    "    ntnfi_status = drug_profile_df.iloc[i,4]\n",
    "    pred_status = drug_profile_df.iloc[i,5]\n",
    "    \n",
    "    if pred_status == \"yes\":\n",
    "        pred_status = 1\n",
    "    if pred_status == \"no\":\n",
    "        pred_status = 0\n",
    "        \n",
    "    add_drug_status_to_dict(data_info_dict, \"mtx\", mtx_status)\n",
    "    add_drug_status_to_dict(data_info_dict, \"csdmard\", csDMARD_status)\n",
    "    add_drug_status_to_dict(data_info_dict, \"tnfi\", tnfi_status)\n",
    "    add_drug_status_to_dict(data_info_dict, \"ntnfi\", ntnfi_status)\n",
    "    add_drug_status_to_dict(data_info_dict, \"pred\", pred_status)"
   ]
  },
  {
   "cell_type": "code",
   "execution_count": 22,
   "metadata": {},
   "outputs": [],
   "source": [
    "# data_info_dict[\"patientID\"] = patientID_list\n",
    "data_info_dict.keys()\n",
    "factor_key_list = ['patient_dummyID', 'SEX', 'AGE','mtx', 'csdmard', 'tnfi', 'ntnfi', 'pred']"
   ]
  },
  {
   "cell_type": "code",
   "execution_count": 30,
   "metadata": {},
   "outputs": [],
   "source": [
    "output_file = '/Users/m221138/RA_plasma_metabolites/data/drug_effect_67_met_profile.txt'\n",
    "output_txt = open(output_file,'w')\n",
    "\n",
    "for patientID in patientID_list:\n",
    "    output_txt.write('\\t%s' % patientID)\n",
    "output_txt.write('\\n')\n",
    "\n",
    "for key in factor_key_list:\n",
    "    output_txt.write(key)\n",
    "    for value in data_info_dict[key]:\n",
    "        output_txt.write('\\t%s' % value)\n",
    "    output_txt.write('\\n')  \n",
    "count = 0\n",
    "for key in data_info_dict.keys():   \n",
    "    if key not in factor_key_list:\n",
    "        count = count + 1\n",
    "        output_txt.write(str(key))\n",
    "        for value in data_info_dict[key]:\n",
    "            output_txt.write('\\t%s' % value)\n",
    "        output_txt.write('\\n')  \n",
    "        "
   ]
  },
  {
   "cell_type": "code",
   "execution_count": null,
   "metadata": {},
   "outputs": [],
   "source": []
  }
 ],
 "metadata": {
  "kernelspec": {
   "display_name": "Python 3",
   "language": "python",
   "name": "python3"
  },
  "language_info": {
   "codemirror_mode": {
    "name": "ipython",
    "version": 3
   },
   "file_extension": ".py",
   "mimetype": "text/x-python",
   "name": "python",
   "nbconvert_exporter": "python",
   "pygments_lexer": "ipython3",
   "version": "3.7.5"
  }
 },
 "nbformat": 4,
 "nbformat_minor": 2
}
