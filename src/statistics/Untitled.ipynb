{
 "cells": [
  {
   "cell_type": "code",
   "execution_count": 21,
   "metadata": {},
   "outputs": [],
   "source": [
    "import pandas as pd\n",
    "from sklearn.linear_model import LinearRegression\n",
    "from scipy import stats\n",
    "\n",
    "data = '/Users/m221138/RA_plasma_metabolites/data/51_features_dataprofile.csv'\n",
    "output = '/Users/m221138/RA_plasma_metabolites/code/statistics/51_features_corr.out.txt'\n",
    "output_txt = open(output,'w')\n",
    "data_df = pd.read_csv(data)\n",
    "r, c = data_df.shape"
   ]
  },
  {
   "cell_type": "code",
   "execution_count": 23,
   "metadata": {},
   "outputs": [
    {
     "name": "stdout",
     "output_type": "stream",
     "text": [
      "N2-acetyl,N6-methyllysine -0.22043925324336175 0.012406800198377133\n",
      "ectoine 0.005745514897739825 0.94867884832242\n",
      "cysteinylglycine disulfide* 0.19558527524001837 0.026932007114830417\n",
      "trimethylamine N-oxide 0.13836467200324143 0.1193369023939233\n",
      "guanidinoacetate -0.24388108406073522 0.005534623777279234\n",
      "N-acetylarginine -0.2604635061188687 0.0029845027864536587\n",
      "N-acetyltryptophan -0.2872761558642067 0.0010095016672100692\n",
      "dimethylguanidino valeric acid (DMGV)* 0.21056080506334823 0.01704827310618831\n",
      "linolenoylcarnitine (C18:3)* -0.35388095214888565 4.1701964091207366e-05\n",
      "stearoyl ethanolamide 0.11555695451201224 0.19397528701167022\n",
      "bilirubin (E,E)* -0.34181807804471864 7.850554081599604e-05\n",
      "1,6-anhydroglucose 0.13583709200454447 0.1263039282643728\n",
      "4-guanidinobutanoate -0.0567913245469821 0.5242996270492495\n",
      "hypoxanthine 0.14034184156202797 0.1140974421365089\n",
      "3-methylhistidine 0.07412229254280388 0.40568208280727447\n",
      "gulonate* 0.006718476384083871 0.9400030108638489\n",
      "pyrraline 0.03960925811563966 0.6571106615344282\n",
      "3-hydroxystearate 0.2506181185215988 0.004326932495136132\n",
      "alpha-ketobutyrate -0.015651377734380897 0.8608055757769154\n",
      "lysine -0.21175088750369464 0.016419182420730837\n",
      "N-acetylneuraminate 0.04562661488925738 0.6090648241866257\n",
      "1-carboxyethylisoleucine 0.03804136338826259 0.6698737755430508\n",
      "linoleoylcarnitine (C18:2)* -0.27972943414018425 0.0013847036190628742\n",
      "lanthionine -0.17641521321574502 0.04637292804471021\n",
      "tryptophan -0.24952430565863407 0.004505344237153462\n",
      "(14 or 15)-methylpalmitate (a17:0 or i17:0) 0.1258051041103364 0.15707194924450754\n",
      "1-methylhistidine 0.04652779768533232 0.602004135934255\n",
      "glucuronate 0.2254144975994243 0.01051941799479004\n",
      "erucate (22:1n9) 0.042470517743948395 0.6340741393924472\n",
      "isoursodeoxycholate -0.06622220955841161 0.4576724891527575\n",
      "serine -0.21383188924346505 0.015367479358213467\n",
      "3-phenylpropionate (hydrocinnamate) -0.2204004608618119 0.012422610938560839\n",
      "mannose 0.24979541637827912 0.004460520136624937\n",
      "bilirubin -0.17690946379255149 0.045754253503012376\n",
      "biliverdin -0.2764542621463279 0.0015839851492089419\n",
      "6-bromotryptophan -0.2718303816310154 0.0019098490784006969\n",
      "glucose 0.11334818364944904 0.20269240743506756\n",
      "1-linoleoyl-GPA (18:2)* -0.1661995011930424 0.060799732358891634\n",
      "1-carboxyethylleucine 0.03738882000674889 0.6752138131250711\n",
      "1-carboxyethylvaline 0.11237231403333475 0.20663228014221885\n",
      "trigonelline (N'-methylnicotinate) -0.23994391847343943 0.006372020363452911\n",
      "palmitoyl ethanolamide 0.1358953560419784 0.12613988041774327\n",
      "phenol sulfate -0.2880740509908107 0.0009758304166292708\n",
      "beta-hydroxyisovalerate 0.08250033268956843 0.35454583688084285\n",
      "N-acetyltyrosine -0.22438410272946072 0.010888148524519858\n",
      "glycoursodeoxycholate -0.0930899311170655 0.29596189653293703\n",
      "branched chain 14:0 dicarboxylic acid -0.24541396200401078 0.005236110635201543\n",
      "gluconate 0.13456484396551568 0.12992713315235332\n",
      "eicosenoylcarnitine (C20:1)* -0.22816422255744725 0.00958861385704411\n",
      "dihomo-linoleoylcarnitine (C20:2)* -0.2180380241948633 0.013419319290471424\n",
      "myo-inositol 0.013757208738995073 0.8775107883997525\n"
     ]
    }
   ],
   "source": [
    "for i in range(1, r):\n",
    "    das28_list = data_df.iloc[0,1:]\n",
    "    chem_value_list = data_df.iloc[i,1:]\n",
    "    chem_name = data_df.iloc[i,0]\n",
    "    \n",
    "    rho, pvalue = stats.spearmanr(das28_list, chem_value_list)\n",
    "    print (chem_name, rho, pvalue)\n",
    "    output_txt.write('%s\\t%s\\t%s\\n' % (chem_name, rho, pvalue))\n",
    "output_txt.close()"
   ]
  },
  {
   "cell_type": "code",
   "execution_count": null,
   "metadata": {},
   "outputs": [],
   "source": []
  }
 ],
 "metadata": {
  "kernelspec": {
   "display_name": "Python 3",
   "language": "python",
   "name": "python3"
  },
  "language_info": {
   "codemirror_mode": {
    "name": "ipython",
    "version": 3
   },
   "file_extension": ".py",
   "mimetype": "text/x-python",
   "name": "python",
   "nbconvert_exporter": "python",
   "pygments_lexer": "ipython3",
   "version": "3.7.5"
  }
 },
 "nbformat": 4,
 "nbformat_minor": 2
}
