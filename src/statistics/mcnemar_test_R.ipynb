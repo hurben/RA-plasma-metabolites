{
 "cells": [
  {
   "cell_type": "code",
   "execution_count": 5,
   "metadata": {},
   "outputs": [],
   "source": [
    "create_data_table <- function(num1,num2,num3,num4){\n",
    "    \n",
    "    data_table <- matrix(c(num1,num2,num3,num4), \n",
    "              nrow = 2, \n",
    "              dimnames = list(\"visit2\" = c(\"v2_Give\",\"v2_notGiven\"),\n",
    "                             \"visit1\" = c(\"v1_Give\",\"v1_notGiven\")))\n",
    "    return (data_table)\n",
    "}"
   ]
  },
  {
   "cell_type": "code",
   "execution_count": 6,
   "metadata": {},
   "outputs": [],
   "source": [
    "csDMARD_table <- create_data_table(18,2,9,35)\n",
    "tnf_bDMARD_table <- create_data_table(17,6,4,37)\n",
    "ntnf_bDMARD_table <- create_data_table(5,1,2,56)\n",
    "pred_table <- create_data_table(23,6,5,30)\n",
    "mtx_table <- create_data_table(46,2,3,13)\n"
   ]
  },
  {
   "cell_type": "code",
   "execution_count": 7,
   "metadata": {},
   "outputs": [
    {
     "name": "stdout",
     "output_type": "stream",
     "text": [
      "[1] \"csDMARD\"\n"
     ]
    },
    {
     "data": {
      "text/html": [
       "<table>\n",
       "<caption>A matrix: 2 × 2 of type dbl</caption>\n",
       "<thead>\n",
       "\t<tr><th></th><th scope=col>v1_Give</th><th scope=col>v1_notGiven</th></tr>\n",
       "</thead>\n",
       "<tbody>\n",
       "\t<tr><th scope=row>v2_Give</th><td>18</td><td> 9</td></tr>\n",
       "\t<tr><th scope=row>v2_notGiven</th><td> 2</td><td>35</td></tr>\n",
       "</tbody>\n",
       "</table>\n"
      ],
      "text/latex": [
       "A matrix: 2 × 2 of type dbl\n",
       "\\begin{tabular}{r|ll}\n",
       "  & v1\\_Give & v1\\_notGiven\\\\\n",
       "\\hline\n",
       "\tv2\\_Give & 18 &  9\\\\\n",
       "\tv2\\_notGiven &  2 & 35\\\\\n",
       "\\end{tabular}\n"
      ],
      "text/markdown": [
       "\n",
       "A matrix: 2 × 2 of type dbl\n",
       "\n",
       "| <!--/--> | v1_Give | v1_notGiven |\n",
       "|---|---|---|\n",
       "| v2_Give | 18 |  9 |\n",
       "| v2_notGiven |  2 | 35 |\n",
       "\n"
      ],
      "text/plain": [
       "             visit1\n",
       "visit2        v1_Give v1_notGiven\n",
       "  v2_Give     18       9         \n",
       "  v2_notGiven  2      35         "
      ]
     },
     "metadata": {},
     "output_type": "display_data"
    },
    {
     "name": "stdout",
     "output_type": "stream",
     "text": [
      "[1] \"TNF_bDMARD\"\n"
     ]
    },
    {
     "data": {
      "text/html": [
       "<table>\n",
       "<caption>A matrix: 2 × 2 of type dbl</caption>\n",
       "<thead>\n",
       "\t<tr><th></th><th scope=col>v1_Give</th><th scope=col>v1_notGiven</th></tr>\n",
       "</thead>\n",
       "<tbody>\n",
       "\t<tr><th scope=row>v2_Give</th><td>17</td><td> 4</td></tr>\n",
       "\t<tr><th scope=row>v2_notGiven</th><td> 6</td><td>37</td></tr>\n",
       "</tbody>\n",
       "</table>\n"
      ],
      "text/latex": [
       "A matrix: 2 × 2 of type dbl\n",
       "\\begin{tabular}{r|ll}\n",
       "  & v1\\_Give & v1\\_notGiven\\\\\n",
       "\\hline\n",
       "\tv2\\_Give & 17 &  4\\\\\n",
       "\tv2\\_notGiven &  6 & 37\\\\\n",
       "\\end{tabular}\n"
      ],
      "text/markdown": [
       "\n",
       "A matrix: 2 × 2 of type dbl\n",
       "\n",
       "| <!--/--> | v1_Give | v1_notGiven |\n",
       "|---|---|---|\n",
       "| v2_Give | 17 |  4 |\n",
       "| v2_notGiven |  6 | 37 |\n",
       "\n"
      ],
      "text/plain": [
       "             visit1\n",
       "visit2        v1_Give v1_notGiven\n",
       "  v2_Give     17       4         \n",
       "  v2_notGiven  6      37         "
      ]
     },
     "metadata": {},
     "output_type": "display_data"
    },
    {
     "name": "stdout",
     "output_type": "stream",
     "text": [
      "[1] \"nonTNF_bDMARD\"\n"
     ]
    },
    {
     "data": {
      "text/html": [
       "<table>\n",
       "<caption>A matrix: 2 × 2 of type dbl</caption>\n",
       "<thead>\n",
       "\t<tr><th></th><th scope=col>v1_Give</th><th scope=col>v1_notGiven</th></tr>\n",
       "</thead>\n",
       "<tbody>\n",
       "\t<tr><th scope=row>v2_Give</th><td>5</td><td> 2</td></tr>\n",
       "\t<tr><th scope=row>v2_notGiven</th><td>1</td><td>56</td></tr>\n",
       "</tbody>\n",
       "</table>\n"
      ],
      "text/latex": [
       "A matrix: 2 × 2 of type dbl\n",
       "\\begin{tabular}{r|ll}\n",
       "  & v1\\_Give & v1\\_notGiven\\\\\n",
       "\\hline\n",
       "\tv2\\_Give & 5 &  2\\\\\n",
       "\tv2\\_notGiven & 1 & 56\\\\\n",
       "\\end{tabular}\n"
      ],
      "text/markdown": [
       "\n",
       "A matrix: 2 × 2 of type dbl\n",
       "\n",
       "| <!--/--> | v1_Give | v1_notGiven |\n",
       "|---|---|---|\n",
       "| v2_Give | 5 |  2 |\n",
       "| v2_notGiven | 1 | 56 |\n",
       "\n"
      ],
      "text/plain": [
       "             visit1\n",
       "visit2        v1_Give v1_notGiven\n",
       "  v2_Give     5        2         \n",
       "  v2_notGiven 1       56         "
      ]
     },
     "metadata": {},
     "output_type": "display_data"
    },
    {
     "name": "stdout",
     "output_type": "stream",
     "text": [
      "[1] \"pred\"\n"
     ]
    },
    {
     "data": {
      "text/html": [
       "<table>\n",
       "<caption>A matrix: 2 × 2 of type dbl</caption>\n",
       "<thead>\n",
       "\t<tr><th></th><th scope=col>v1_Give</th><th scope=col>v1_notGiven</th></tr>\n",
       "</thead>\n",
       "<tbody>\n",
       "\t<tr><th scope=row>v2_Give</th><td>23</td><td> 5</td></tr>\n",
       "\t<tr><th scope=row>v2_notGiven</th><td> 6</td><td>30</td></tr>\n",
       "</tbody>\n",
       "</table>\n"
      ],
      "text/latex": [
       "A matrix: 2 × 2 of type dbl\n",
       "\\begin{tabular}{r|ll}\n",
       "  & v1\\_Give & v1\\_notGiven\\\\\n",
       "\\hline\n",
       "\tv2\\_Give & 23 &  5\\\\\n",
       "\tv2\\_notGiven &  6 & 30\\\\\n",
       "\\end{tabular}\n"
      ],
      "text/markdown": [
       "\n",
       "A matrix: 2 × 2 of type dbl\n",
       "\n",
       "| <!--/--> | v1_Give | v1_notGiven |\n",
       "|---|---|---|\n",
       "| v2_Give | 23 |  5 |\n",
       "| v2_notGiven |  6 | 30 |\n",
       "\n"
      ],
      "text/plain": [
       "             visit1\n",
       "visit2        v1_Give v1_notGiven\n",
       "  v2_Give     23       5         \n",
       "  v2_notGiven  6      30         "
      ]
     },
     "metadata": {},
     "output_type": "display_data"
    },
    {
     "name": "stdout",
     "output_type": "stream",
     "text": [
      "[1] \"mtx\"\n"
     ]
    },
    {
     "data": {
      "text/html": [
       "<table>\n",
       "<caption>A matrix: 2 × 2 of type dbl</caption>\n",
       "<thead>\n",
       "\t<tr><th></th><th scope=col>v1_Give</th><th scope=col>v1_notGiven</th></tr>\n",
       "</thead>\n",
       "<tbody>\n",
       "\t<tr><th scope=row>v2_Give</th><td>46</td><td> 3</td></tr>\n",
       "\t<tr><th scope=row>v2_notGiven</th><td> 2</td><td>13</td></tr>\n",
       "</tbody>\n",
       "</table>\n"
      ],
      "text/latex": [
       "A matrix: 2 × 2 of type dbl\n",
       "\\begin{tabular}{r|ll}\n",
       "  & v1\\_Give & v1\\_notGiven\\\\\n",
       "\\hline\n",
       "\tv2\\_Give & 46 &  3\\\\\n",
       "\tv2\\_notGiven &  2 & 13\\\\\n",
       "\\end{tabular}\n"
      ],
      "text/markdown": [
       "\n",
       "A matrix: 2 × 2 of type dbl\n",
       "\n",
       "| <!--/--> | v1_Give | v1_notGiven |\n",
       "|---|---|---|\n",
       "| v2_Give | 46 |  3 |\n",
       "| v2_notGiven |  2 | 13 |\n",
       "\n"
      ],
      "text/plain": [
       "             visit1\n",
       "visit2        v1_Give v1_notGiven\n",
       "  v2_Give     46       3         \n",
       "  v2_notGiven  2      13         "
      ]
     },
     "metadata": {},
     "output_type": "display_data"
    }
   ],
   "source": [
    "# print (\"csDMARD\")\n",
    "# csDMARD_table\n",
    "# print (\"TNF_bDMARD\")\n",
    "# tnf_bDMARD_table\n",
    "# print (\"nonTNF_bDMARD\")\n",
    "# ntnf_bDMARD_table\n",
    "# print (\"pred\")\n",
    "# pred_table\n",
    "# print (\"mtx\")\n",
    "# mtx_table"
   ]
  },
  {
   "cell_type": "code",
   "execution_count": 8,
   "metadata": {},
   "outputs": [
    {
     "data": {
      "text/plain": [
       "\n",
       "\tMcNemar's Chi-squared test with continuity correction\n",
       "\n",
       "data:  csDMARD_table\n",
       "McNemar's chi-squared = 3.2727, df = 1, p-value = 0.07044\n"
      ]
     },
     "metadata": {},
     "output_type": "display_data"
    },
    {
     "data": {
      "text/plain": [
       "\n",
       "\tMcNemar's Chi-squared test with continuity correction\n",
       "\n",
       "data:  tnf_bDMARD_table\n",
       "McNemar's chi-squared = 0.1, df = 1, p-value = 0.7518\n"
      ]
     },
     "metadata": {},
     "output_type": "display_data"
    },
    {
     "data": {
      "text/plain": [
       "\n",
       "\tMcNemar's Chi-squared test with continuity correction\n",
       "\n",
       "data:  ntnf_bDMARD_table\n",
       "McNemar's chi-squared = 0, df = 1, p-value = 1\n"
      ]
     },
     "metadata": {},
     "output_type": "display_data"
    },
    {
     "data": {
      "text/plain": [
       "\n",
       "\tMcNemar's Chi-squared test with continuity correction\n",
       "\n",
       "data:  pred_table\n",
       "McNemar's chi-squared = 0, df = 1, p-value = 1\n"
      ]
     },
     "metadata": {},
     "output_type": "display_data"
    },
    {
     "data": {
      "text/plain": [
       "\n",
       "\tMcNemar's Chi-squared test with continuity correction\n",
       "\n",
       "data:  mtx_table\n",
       "McNemar's chi-squared = 0, df = 1, p-value = 1\n"
      ]
     },
     "metadata": {},
     "output_type": "display_data"
    }
   ],
   "source": [
    "mcnemar.test(csDMARD_table)\n",
    "mcnemar.test(tnf_bDMARD_table)\n",
    "mcnemar.test(ntnf_bDMARD_table)\n",
    "mcnemar.test(pred_table)\n",
    "mcnemar.test(mtx_table)"
   ]
  },
  {
   "cell_type": "code",
   "execution_count": 9,
   "metadata": {},
   "outputs": [
    {
     "data": {
      "text/plain": [
       "\n",
       "\tMcNemar's Chi-squared test with continuity correction\n",
       "\n",
       "data:  test_table\n",
       "McNemar's chi-squared = 0.125, df = 1, p-value = 0.7237\n"
      ]
     },
     "metadata": {},
     "output_type": "display_data"
    }
   ],
   "source": [
    "test_table <- create_data_table(46,5,3,13)\n",
    "mcnemar.test(test_table)"
   ]
  },
  {
   "cell_type": "code",
   "execution_count": null,
   "metadata": {},
   "outputs": [],
   "source": []
  }
 ],
 "metadata": {
  "kernelspec": {
   "display_name": "R",
   "language": "R",
   "name": "ir"
  },
  "language_info": {
   "codemirror_mode": "r",
   "file_extension": ".r",
   "mimetype": "text/x-r-source",
   "name": "R",
   "pygments_lexer": "r",
   "version": "3.6.1"
  }
 },
 "nbformat": 4,
 "nbformat_minor": 2
}
