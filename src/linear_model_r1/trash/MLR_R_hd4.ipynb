{
 "cells": [
  {
   "cell_type": "code",
   "execution_count": 3,
   "metadata": {},
   "outputs": [],
   "source": [
    "#data_profile <- read.csv('/Users/m221138/RA_project/analysis/linear_model_r1/MLR.hd4.ready.tsv', sep=\"\\t\", row.names=1, header=TRUE)\n",
    "data_profile <- read.csv('/Users/m221138/RA_project/analysis/linear_model_r1/MLR.hd4.ready.ignor.norm.qc.tsv', sep=\"\\t\", row.names=1, header=TRUE)\n",
    "data_profile <- as.data.frame(t(data_profile))\n"
   ]
  },
  {
   "cell_type": "code",
   "execution_count": 4,
   "metadata": {
    "scrolled": true
   },
   "outputs": [
    {
     "data": {
      "text/html": [
       "TRUE"
      ],
      "text/latex": [
       "TRUE"
      ],
      "text/markdown": [
       "TRUE"
      ],
      "text/plain": [
       "[1] TRUE"
      ]
     },
     "metadata": {},
     "output_type": "display_data"
    }
   ],
   "source": [
    "output_txt = '/Users/m221138/RA_project/analysis/linear_model_r1/MLR.hd4.tsv'\n",
    "if (file.exists(output_txt)){\n",
    "    file.remove(output_txt)\n",
    "}\n",
    "\n",
    "NUM_CHEM_ID <- ncol(data_profile)\n",
    "NUM_patient_timepoint <- nrow(data_profile)\n",
    "\n",
    "output_txt <- ''\n",
    "cat('chemID\\tsimpleLRM_Fstatistics\\tmultiLRM_Fstatistics\\tsimpleLRM_rsquare\\tmultiLRM_rsquare\\tmodel_compare\\n', file='/Users/m221138/RA_project/analysis/linear_model_r1/MLR.hd4.tsv', append=TRUE)\n",
    "\n",
    "for (i in 1:NUM_CHEM_ID){\n",
    "    if (i > 4){\n",
    "        output_string <- ''\n",
    "        \n",
    "        chemID <- colnames(data_profile)[i]\n",
    "        chem_profile <- data_profile[,i]\n",
    "        \n",
    "        simple_LRM <- lm(DAS ~ chem_profile, data=data_profile)\n",
    "        simple_LRM_stats <- summary(simple_LRM)$fstatistic\n",
    "        \n",
    "        simple_LRM_f_pvalue<- pf(simple_LRM_stats[1], simple_LRM_stats[2], simple_LRM_stats[3], lower.tail=FALSE)\n",
    "        #simple_LRM_coeff <- summary(simple_LRM)$coefficients\n",
    "        simple_LRM_rsquare <- summary(simple_LRM)$adj.r.squared\n",
    "\n",
    "        multi_LRM <- lm(DAS ~ chem_profile + SEX + AGE + patient_dummyID, data=data_profile)\n",
    "        multi_LRM_stats <- summary(multi_LRM)$fstatistic\n",
    "\n",
    "        multi_LRM_f_pvalue<- pf(multi_LRM_stats[1], multi_LRM_stats[2], multi_LRM_stats[3], lower.tail=FALSE)\n",
    "\n",
    "        multi_LRM_rsquare <- summary(multi_LRM)$adj.r.square\n",
    "        \n",
    "        compare_models <- anova(simple_LRM, multi_LRM)\n",
    "        model_sig <- compare_models$Pr[2]\n",
    "        output_string <- paste(chemID,\"\\t\", simple_LRM_f_pvalue,\"\\t\", multi_LRM_f_pvalue, \"\\t\", simple_LRM_rsquare, \"\\t\", multi_LRM_rsquare, \"\\t\", model_sig, \"\\n\")\n",
    "\n",
    "        cat(output_string, file='/Users/m221138/RA_project/analysis/linear_model_r1/MLR.hd4.tsv', append=TRUE)\n",
    "\n",
    "    }\n",
    "}"
   ]
  },
  {
   "cell_type": "code",
   "execution_count": null,
   "metadata": {},
   "outputs": [],
   "source": []
  }
 ],
 "metadata": {
  "kernelspec": {
   "display_name": "R",
   "language": "R",
   "name": "ir"
  },
  "language_info": {
   "codemirror_mode": "r",
   "file_extension": ".r",
   "mimetype": "text/x-r-source",
   "name": "R",
   "pygments_lexer": "r",
   "version": "3.6.1"
  }
 },
 "nbformat": 4,
 "nbformat_minor": 2
}
