{
 "cells": [
  {
   "cell_type": "code",
   "execution_count": 147,
   "metadata": {},
   "outputs": [],
   "source": [
    "import pandas as pd\n",
    "import seaborn as sns\n",
    "import statistics"
   ]
  },
  {
   "cell_type": "code",
   "execution_count": 174,
   "metadata": {},
   "outputs": [],
   "source": [
    "selective_chemID_list = ['100001510', '100001950', '100000257','100015831']\n",
    "# selective_chemID_list = ['100000257']\n",
    "classID_list = ['r','l','m','h']"
   ]
  },
  {
   "cell_type": "code",
   "execution_count": 175,
   "metadata": {},
   "outputs": [
    {
     "name": "stdout",
     "output_type": "stream",
     "text": [
      "['100000257', '100004208', '100020536', '100001605', '100001121', '100015831', '100001950', '100006098', '100002761', '100009246', '100001510']\n"
     ]
    }
   ],
   "source": [
    "input_file = '/Users/m221138/RA_project/analysis/monotonic_change_r1/class4_r1/MLR.hd4.ready.ignor.norm.qc.fillna.monotonic_0.1.tsv'\n",
    "input_df = pd.read_csv(input_file, sep=\"\\t\", header=0, index_col=0)\n",
    "\n",
    "t_input_df = (input_df.T)\n",
    "new_input_df = t_input_df.iloc[:,1:]\n",
    "new_input_df = new_input_df.astype(float)\n",
    "new_input_df[\"DAS28\"] = t_input_df.iloc[:,0]\n",
    "\n",
    "das28_list = list(input_df.iloc[0,:])\n",
    "chemID_list = list(input_df.index.values[1:])\n",
    "print (chemID_list)\n",
    "r, c = input_df.shape"
   ]
  },
  {
   "cell_type": "code",
   "execution_count": 176,
   "metadata": {},
   "outputs": [],
   "source": [
    "data_dict = {}\n",
    "\n",
    "for i in range(1, r):\n",
    "    chemID = input_df.index.values[i]\n",
    "    if chemID in selective_chemID_list:\n",
    "        for j in range(c):\n",
    "            value = float(input_df.iloc[i, j])\n",
    "            das28_label = das28_list[j]\n",
    "            \n",
    "            try: data_dict[chemID, das28_label].append(value)\n",
    "            except KeyError: data_dict[chemID, das28_label] = [value]"
   ]
  },
  {
   "cell_type": "code",
   "execution_count": 179,
   "metadata": {},
   "outputs": [
    {
     "name": "stdout",
     "output_type": "stream",
     "text": [
      "  DAS28     means\n",
      "0     r  1.474705\n",
      "1     l  1.240206\n",
      "2     m  1.118412\n",
      "3     h  0.861927\n",
      "  DAS28     means\n",
      "0     r  1.265141\n",
      "1     l  1.165171\n",
      "2     m  0.959163\n",
      "3     h  0.776627\n",
      "  DAS28     means\n",
      "0     r  1.007273\n",
      "1     l  1.253624\n",
      "2     m  1.355956\n",
      "3     h  1.600300\n",
      "  DAS28     means\n",
      "0     r  1.229253\n",
      "1     l  1.107447\n",
      "2     m  0.952461\n",
      "3     h  0.882018\n"
     ]
    },
    {
     "data": {
      "text/plain": [
       "<Figure size 432x288 with 0 Axes>"
      ]
     },
     "metadata": {},
     "output_type": "display_data"
    }
   ],
   "source": [
    "for chemID in selective_chemID_list:\n",
    "    output_pdf = '/Users/m221138/RA_project/analysis/monotonic_change_r1/%s.boxplot.pdf' % chemID\n",
    "    class_list = []\n",
    "    mean_list = []\n",
    "    mean_data_dict = {}\n",
    "\n",
    "    for classID in classID_list:\n",
    "        \n",
    "        classID_mean = statistics.mean(data_dict[chemID, classID])\n",
    "        class_list.append(classID)\n",
    "        mean_list.append(classID_mean)\n",
    "\n",
    "    mean_data_dict['DAS28'] = class_list\n",
    "    mean_data_dict['means'] = mean_list\n",
    "    mean_data_df = pd.DataFrame.from_dict(mean_data_dict)\n",
    "\n",
    "    boxplot = sns.boxplot(x=\"DAS28\", y=chemID, data=new_input_df)\n",
    "    boxplot = sns.scatterplot(x=\"DAS28\", y=\"means\", data=mean_data_df)\n",
    "    boxplot = sns.lineplot(x=\"DAS28\", y=\"means\", data=mean_data_df)\n",
    "    if chemID == '100001510':\n",
    "        chem = 'phenol sulfate'\n",
    "    if chemID == '100001950':\n",
    "        chem = 'bilirubin (E,E)'\n",
    "    if chemID == '100000257':\n",
    "        chem = 'phenol sulfate'\n",
    "    if chemID == 'glucuronate':\n",
    "        chem = 'linolenoylcarnitine (C18:3)'\n",
    "    boxplot.set(xlabel=\"Class\", ylabel=\"%s\" % chem)   \n",
    "    boxplot.get_figure()\n",
    "    boxplot.figure.savefig(output_pdf)\n",
    "    boxplot.get_figure().clf()\n"
   ]
  },
  {
   "cell_type": "code",
   "execution_count": null,
   "metadata": {},
   "outputs": [],
   "source": []
  }
 ],
 "metadata": {
  "kernelspec": {
   "display_name": "Python 3",
   "language": "python",
   "name": "python3"
  },
  "language_info": {
   "codemirror_mode": {
    "name": "ipython",
    "version": 3
   },
   "file_extension": ".py",
   "mimetype": "text/x-python",
   "name": "python",
   "nbconvert_exporter": "python",
   "pygments_lexer": "ipython3",
   "version": "3.7.5"
  }
 },
 "nbformat": 4,
 "nbformat_minor": 2
}
