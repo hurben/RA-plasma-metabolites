{
 "cells": [
  {
   "cell_type": "code",
   "execution_count": 2,
   "metadata": {},
   "outputs": [],
   "source": [
    "import math"
   ]
  },
  {
   "cell_type": "code",
   "execution_count": 4,
   "metadata": {},
   "outputs": [],
   "source": [
    "#for Figure 6: Test dataset prediction\n",
    "num = 12\n",
    "rho_1 = 0.6853\n",
    "rho_2 = 0.1818"
   ]
  },
  {
   "cell_type": "code",
   "execution_count": 7,
   "metadata": {},
   "outputs": [],
   "source": [
    "def calculate_confidence_interval(r):\n",
    "    stderr = 1.0 / math.sqrt(num - 3)\n",
    "    delta = 1.96 * stderr\n",
    "    lower = math.tanh(math.atanh(r) - delta)\n",
    "    upper = math.tanh(math.atanh(r) + delta)\n",
    "    print (\"lower %.6f upper %.6f\" % (lower, upper))"
   ]
  },
  {
   "cell_type": "code",
   "execution_count": 8,
   "metadata": {},
   "outputs": [
    {
     "name": "stdout",
     "output_type": "stream",
     "text": [
      "lower 0.183600 upper 0.903760\n"
     ]
    }
   ],
   "source": [
    "calculate_confidence_interval(rho_1)"
   ]
  },
  {
   "cell_type": "code",
   "execution_count": 9,
   "metadata": {},
   "outputs": [
    {
     "name": "stdout",
     "output_type": "stream",
     "text": [
      "lower -0.437787 upper 0.684311\n"
     ]
    }
   ],
   "source": [
    "calculate_confidence_interval(rho_2)"
   ]
  },
  {
   "cell_type": "code",
   "execution_count": null,
   "metadata": {},
   "outputs": [],
   "source": []
  }
 ],
 "metadata": {
  "kernelspec": {
   "display_name": "Python 3",
   "language": "python",
   "name": "python3"
  },
  "language_info": {
   "codemirror_mode": {
    "name": "ipython",
    "version": 3
   },
   "file_extension": ".py",
   "mimetype": "text/x-python",
   "name": "python",
   "nbconvert_exporter": "python",
   "pygments_lexer": "ipython3",
   "version": "3.7.5"
  }
 },
 "nbformat": 4,
 "nbformat_minor": 2
}
