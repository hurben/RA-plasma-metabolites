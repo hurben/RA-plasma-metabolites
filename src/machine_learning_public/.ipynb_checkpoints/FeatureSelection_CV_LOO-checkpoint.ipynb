{
 "cells": [
  {
   "cell_type": "code",
   "execution_count": 245,
   "metadata": {},
   "outputs": [],
   "source": [
    "import numpy as np\n",
    "import matplotlib.pyplot as plt\n",
    "from matplotlib.pyplot import axes\n",
    "import seaborn as sns\n",
    "import pandas as pd\n",
    "\n",
    "from sklearn.tree import DecisionTreeRegressor\n",
    "from sklearn.linear_model import LinearRegression\n",
    "from sklearn.linear_model import LogisticRegression\n",
    "\n",
    "from sklearn import tree\n",
    "\n",
    "from sklearn.tree import export_graphviz\n",
    "\n",
    "\n",
    "import statistics\n",
    "import operator\n",
    "\n",
    "from sklearn.metrics import mean_absolute_error\n",
    "\n",
    "\n",
    "from sklearn.model_selection import KFold\n",
    "from sklearn.model_selection import LeaveOneOut\n",
    "from pylab import savefig\n",
    "\n",
    "#etc\n",
    "from matplotlib.offsetbox import AnchoredText"
   ]
  },
  {
   "cell_type": "code",
   "execution_count": 255,
   "metadata": {},
   "outputs": [],
   "source": [
    "#Unlike prior version, \n",
    "#[1] This script manually controls Kfold.\n",
    "#[2] Gets MAE for scoring scheme\n",
    "#\n",
    "#Note: For heaven sakes I don't understand the output of cross_val_score (negative values)\n",
    "\n",
    "def get_X_y(input_file):\n",
    "    \n",
    "    data_df = pd.read_csv(input_file,sep=\"\\t\", index_col=0)\n",
    "    data_df = data_df.T  #tilt data\n",
    "    print (data_df.mean())\n",
    "    data_df.fillna(data_df.mean(), inplace=True)\n",
    "\n",
    "    y = data_df.iloc[:,0]\n",
    "    X = data_df.iloc[:,1:]\n",
    "    return X, y\n",
    "\n",
    "def model_learning_and_prediction(model, X, y):\n",
    "\n",
    "    ran_num = np.random\n",
    "    loo = LeaveOneOut()\n",
    "    loo.get_n_splits(X)\n",
    "    \n",
    "    loo_MAE_list = []\n",
    "    test_count = 1\n",
    "    \n",
    "    data_point_for_plot_dict = {}\n",
    "    \n",
    "    for train_i, test_i in loo.split(X):\n",
    "        #print (test_i)\n",
    "\n",
    "        X_train, X_test = X[train_i], X[test_i]\n",
    "        y_train, y_test = y[train_i], y[test_i]\n",
    "\n",
    "        model_fit = model.fit(X_train, y_train)\n",
    "        prediction = model_fit.predict(X_test)\n",
    "        observed_value = y_test\n",
    "        \n",
    "        MAE = mean_absolute_error(observed_value, prediction)\n",
    "\n",
    "        #print (\"FOLD #%s MAE: %s\" % (test_count, MAE))\n",
    "        \n",
    "        observed_value = y_test[0]\n",
    "        prediction = prediction[0]\n",
    "\n",
    "        try :\n",
    "            data_point_for_plot_dict['observe'].append(observed_value)\n",
    "            data_point_for_plot_dict['predict'].append(prediction)\n",
    "        except KeyError:\n",
    "            data_point_for_plot_dict['observe'] = [observed_value]\n",
    "            data_point_for_plot_dict['predict'] = [prediction]\n",
    "            \n",
    "        test_count = test_count + 1\n",
    "        loo_MAE_list.append(MAE)\n",
    "       \n",
    "#     print (\"MAE of LOO:\", loo_MAE_list)\n",
    "    print (\"MEANS of LOO MAE:\",statistics.mean(loo_MAE_list))\n",
    "    print (\"STANDARD DEVIATIONs of LOO MAE:\",statistics.stdev(loo_MAE_list))\n",
    "    \n",
    "    \n",
    "    return data_point_for_plot_dict, statistics.mean(loo_MAE_list), statistics.stdev(loo_MAE_list), loo_MAE_list\n",
    "\n",
    "\n",
    "def apply_model(X,y, plot_output):\n",
    "    \n",
    "    print ('--------------------')\n",
    "    print (' with EVERY DAS28    ')\n",
    "    print ('--------------------')\n",
    "\n",
    "    X = np.array(X)\n",
    "    y = np.array(y)\n",
    "    \n",
    "    print (\"> Linear Regression\")\n",
    "    \n",
    "    lr = LinearRegression()\n",
    "    \n",
    "    plot_1_output = '%s.full' % plot_output\n",
    "    plot_2_output = '%s.pooled' % plot_output\n",
    "    \n",
    "\n",
    "    plot_1_dict, model_1_mean, model_1_sd, loo_MAE_1_list = model_learning_and_prediction(lr, X, y)\n",
    "    plot_2_dict, model_2_mean, model_2_sd, loo_MAE_2_list = apply_model_v2(X, y)\n",
    "\n",
    "    plot_loo_mae_variance_plot(loo_MAE_1_list, loo_MAE_2_list, plot_output)\n",
    "    \n",
    "#     plot_prediction_differences(plot_1_dict, plot_1_output, model_1_mean, model_1_sd)\n",
    "#     plot_prediction_differences(plot_2_dict, plot_2_output, model_2_mean, model_2_mean)\n",
    "    \n",
    "    plot_prediction_differences_v2(plot_1_dict, plot_2_dict, plot_output)\n",
    "    \n",
    "def apply_model_v2(X, y):\n",
    "    \n",
    "\n",
    "    print ('--------------------')\n",
    "    print (' with DAS28 <= 5.1   ')\n",
    "    print ('--------------------')\n",
    "    pre_y = y\n",
    "    \n",
    "    X, y = remove_samples(X, y)\n",
    "    \n",
    "    lr = LinearRegression()\n",
    "    plot_2_dict, mean, sd, loo_MAE_list = model_learning_and_prediction(lr, X, y)\n",
    "    \n",
    "    return plot_2_dict, mean, sd, loo_MAE_list\n",
    "\n",
    "def remove_samples(X, y):\n",
    "    #X = Sample Matrix\n",
    "    #Y = Vector Sample Label Matrix\n",
    "\n",
    "    available_patient_index_list = []\n",
    "    refined_y = [] \n",
    "    refined_X = []\n",
    "    \n",
    "    for i in range(len(y)):\n",
    "        \n",
    "        label = y[i]\n",
    "        \n",
    "        if label <= 5.1:\n",
    "           \n",
    "            available_patient_index_list.append(i)\n",
    "            refined_y.append(label)\n",
    "            \n",
    "    for i in available_patient_index_list:\n",
    "        refined_X.append(X[i])\n",
    "        \n",
    "    print (\"Number Entries in Refined X: %s\" % len(refined_X))\n",
    "    print (\"Number Entries in Refined y: %s\" % len(refined_y))\n",
    "    refined_X = np.array(refined_X)\n",
    "    refined_y = np.array(refined_y)\n",
    "    \n",
    "    return refined_X, refined_y\n",
    "\n",
    "#-------------------------------\n",
    "#plots\n",
    "#-------------------------------\n",
    "\n",
    "def draw_density_plot(pre_y, y, output):\n",
    "    \n",
    "    density_plot = sns.distplot(pre_y, rug=True, hist=False, label=\"Full Dataset\")\n",
    "    density_plot = sns.distplot(y, rug=True, hist=False, label=\"Pooled dataset (DAS28 <= 5.1)\")\n",
    "    density_plot = density_plot.get_figure()\n",
    "    density_plot.savefig(output)\n",
    "    \n",
    "def plot_prediction_differences(data_point_for_plot_dict, plot_output, mean, sd):\n",
    "    \n",
    "\n",
    "    plot_output = '%s.pdf'% plot_output\n",
    "    \n",
    "    palette = sns.color_palette()\n",
    "    \n",
    "    observed_value = data_point_for_plot_dict['observe']\n",
    "    prediction = data_point_for_plot_dict['predict']  \n",
    "    sns_plot = sns.regplot(prediction, observed_value)\n",
    "    sns_plot.set(xlabel='DAS28 (Prediction)', ylabel='DAS28 (Observation)')\n",
    "    sns_plot.get_figure()\n",
    "    sns_plot.figure.savefig(plot_output)\n",
    "    sns_plot.get_figure().clf()\n",
    "    \n",
    "    \n",
    "def plot_prediction_differences_v2(plot_1_dict, plot_2_dict, plot_output):\n",
    "    \n",
    "\n",
    "    plot_output = '%s.prediction.summary.pdf'% plot_output\n",
    "    \n",
    "    palette = sns.color_palette()\n",
    "    \n",
    "    observed_value = plot_1_dict['observe']\n",
    "    prediction = plot_1_dict['predict'] \n",
    "    sns_plot = sns.regplot(prediction, observed_value, ci=None, label=\"full\", scatter_kws={'s':10})\n",
    "    \n",
    "    observed_value = plot_2_dict['observe']\n",
    "    prediction = plot_2_dict['predict'] \n",
    "    sns_plot = sns.regplot(prediction, observed_value, ci=None, label=\"pooled\", scatter_kws={'s':10})\n",
    "    sns_plot = sns.regplot(observed_value, observed_value, ci=None, label=\"Perfect model\", scatter_kws={'s':10})\n",
    "    \n",
    "    sns_plot.set(xlabel='DAS28 (Prediction)', ylabel='DAS28 (Observation)')\n",
    "    sns_plot.set_ylim(0,7)\n",
    "    sns_plot.set_xlim(0,7)\n",
    "    sns_plot.legend()\n",
    "    sns_plot.get_figure()\n",
    "    sns_plot.figure.savefig(plot_output)\n",
    "    sns_plot.get_figure().clf()\n",
    "    \n",
    "def plot_loo_mae_variance_plot(loo_mae_1_list, loo_mae_2_list,  plot_output):\n",
    "    \n",
    "    mean_mae_1 = round(statistics.mean(loo_mae_1_list),2)\n",
    "    sd_mae_1 = round(statistics.stdev(loo_mae_1_list),2)\n",
    "    mean_mae_2 = round(statistics.mean(loo_mae_2_list),2)\n",
    "    sd_mae_2 = round(statistics.stdev(loo_mae_2_list),2)\n",
    "\n",
    "\n",
    "    plot_output = '%s.mae.var.pdf'% plot_output\n",
    "    \n",
    "    set_index_1_list = get_index_list(loo_mae_1_list)\n",
    "    set_index_2_list = get_index_list(loo_mae_2_list)\n",
    "    \n",
    "    loo_mae_1_list.sort(reverse=True)\n",
    "    loo_mae_2_list.sort(reverse=True)\n",
    "\n",
    "    sns_plot = sns.lineplot(set_index_1_list, loo_mae_1_list, label=\"full\")\n",
    "    sns_plot = sns.lineplot(set_index_2_list, loo_mae_2_list, label=\"pooled\")\n",
    "    \n",
    "    sns_plot.set(xlabel='Index of sample set', ylabel='Mean Absolute Error')\n",
    "    sns_plot.set_ylim(0,5)\n",
    "\n",
    "    anc = AnchoredText(\"full(sd): %s (%s), Pooled(sd): %s (%s)\" %(mean_mae_1, sd_mae_1, mean_mae_2, sd_mae_2), loc=\"upper left\", frameon=False)\n",
    "    #anc2 = AnchoredText(\"Text2\", loc=\"upper left\", frameon=False)\n",
    "    sns_plot.add_artist(anc)\n",
    "    #sns_plot.add_artist(anc2)\n",
    "    sns_plot.get_figure()\n",
    "    sns_plot.figure.savefig(plot_output)\n",
    "    sns_plot.get_figure().clf()\n",
    "\n",
    "def get_index_list(loo_mae_list):\n",
    "    set_index_list = []\n",
    "    for i in range(len(loo_mae_list)):\n",
    "        set_index_list.append(i+1)\n",
    "    return set_index_list\n"
   ]
  },
  {
   "cell_type": "code",
   "execution_count": 256,
   "metadata": {},
   "outputs": [
    {
     "name": "stdout",
     "output_type": "stream",
     "text": [
      "DAS             3.057941\n",
      "LPC[FA16:0]    71.423769\n",
      "MAG[FA18:0]     1.061955\n",
      "LPE[FA16:0]     0.860073\n",
      "DAG[FA20:0]     0.136193\n",
      "                 ...    \n",
      "100020425       1.124013\n",
      "796             1.169007\n",
      "100020866       1.159378\n",
      "100000042       1.491237\n",
      "1442            1.038529\n",
      "Length: 70, dtype: float64\n",
      "--------------------\n",
      " with EVERY DAS28    \n",
      "--------------------\n",
      "> Linear Regression\n",
      "MEANS of LOO MAE: 1.1674233438968047\n",
      "STANDARD DEVIATIONs of LOO MAE: 0.8755887251998158\n",
      "--------------------\n",
      " with DAS28 <= 5.1   \n",
      "--------------------\n",
      "Number Entries in Refined X: 117\n",
      "Number Entries in Refined y: 117\n",
      "MEANS of LOO MAE: 1.0931495716452007\n",
      "STANDARD DEVIATIONs of LOO MAE: 0.7440302453838961\n"
     ]
    },
    {
     "data": {
      "text/plain": [
       "<Figure size 432x288 with 0 Axes>"
      ]
     },
     "metadata": {},
     "output_type": "display_data"
    }
   ],
   "source": [
    "#Selective Feature\n",
    "input_file = '/Users/m221138/RA_project/analysis/feature_selection/feature.selection.data.matrix.tsv'\n",
    "plot_output = '/Users/m221138/RA_project/analysis/prediction_w_Linear/HD4_CLP4_selective'\n",
    "X, y = get_X_y(input_file)\n",
    "apply_model(X,y, plot_output)"
   ]
  },
  {
   "cell_type": "code",
   "execution_count": 248,
   "metadata": {},
   "outputs": [
    {
     "name": "stdout",
     "output_type": "stream",
     "text": [
      "Number Entries in Refined X: 117\n",
      "Number Entries in Refined y: 117\n"
     ]
    },
    {
     "data": {
      "image/png": "[encoded data removed]",
      "text/plain": [
       "<Figure size 432x288 with 1 Axes>"
      ]
     },
     "metadata": {
      "needs_background": "light"
     },
     "output_type": "display_data"
    }
   ],
   "source": [
    "pre_y = y\n",
    "\n",
    "y = list(y)\n",
    "X = np.array(X)\n",
    "\n",
    "X, y = remove_samples(X, pre_y)\n",
    "draw_density_plot(pre_y, y, '/Users/m221138/RA_project/analysis/prediction_w_Linear/DAS28_DensityPlot.pdf')"
   ]
  },
  {
   "cell_type": "code",
   "execution_count": 249,
   "metadata": {},
   "outputs": [
    {
     "name": "stdout",
     "output_type": "stream",
     "text": [
      "<class 'pandas.core.frame.DataFrame'>\n",
      "--------------------\n",
      " with EVERY DAS28    \n",
      "--------------------\n",
      "> Linear Regression\n",
      "MEANS of LOO MAE: 1.5449363599963928\n",
      "STANDARD DEVIATIONs of LOO MAE: 1.2877595393061907\n",
      "--------------------\n",
      " with DAS28 <= 5.1   \n",
      "--------------------\n",
      "Number Entries in Refined X: 117\n",
      "Number Entries in Refined y: 117\n",
      "MEANS of LOO MAE: 1.399564728238786\n",
      "STANDARD DEVIATIONs of LOO MAE: 1.3349048893184796\n"
     ]
    },
    {
     "data": {
      "text/plain": [
       "<Figure size 432x288 with 0 Axes>"
      ]
     },
     "metadata": {},
     "output_type": "display_data"
    }
   ],
   "source": [
    "#Every Features\n",
    "input_file = '/Users/m221138/RA_project/analysis/feature_selection/non_selective_full_feature/full.feature.data.matrix.tsv'\n",
    "plot_output = '/Users/m221138/RA_project/analysis/prediction_w_Linear/HD4_CLP4_all_features'\n",
    "X, y = get_X_y(input_file)\n",
    "apply_model(X,y, plot_output)"
   ]
  },
  {
   "cell_type": "code",
   "execution_count": 250,
   "metadata": {},
   "outputs": [
    {
     "name": "stdout",
     "output_type": "stream",
     "text": [
      "<class 'pandas.core.frame.DataFrame'>\n",
      "--------------------\n",
      " with EVERY DAS28    \n",
      "--------------------\n",
      "> Linear Regression\n",
      "MEANS of LOO MAE: 1.4884470762107513\n",
      "STANDARD DEVIATIONs of LOO MAE: 1.6883539159900316\n",
      "--------------------\n",
      " with DAS28 <= 5.1   \n",
      "--------------------\n",
      "Number Entries in Refined X: 117\n",
      "Number Entries in Refined y: 117\n",
      "MEANS of LOO MAE: 1.178629088500112\n",
      "STANDARD DEVIATIONs of LOO MAE: 0.9991147969852411\n"
     ]
    },
    {
     "data": {
      "text/plain": [
       "<Figure size 432x288 with 0 Axes>"
      ]
     },
     "metadata": {},
     "output_type": "display_data"
    }
   ],
   "source": [
    "#HD4 every features\n",
    "input_file = '/Users/m221138/RA_project/analysis/feature_selection/non_selective_hd4_full_feature/hd4.full.feature.data.matrix.tsv'\n",
    "plot_output = '/Users/m221138/RA_project/analysis/prediction_w_Linear/HD4_all_features'\n",
    "X, y = get_X_y(input_file)\n",
    "apply_model(X,y, plot_output)"
   ]
  },
  {
   "cell_type": "code",
   "execution_count": 237,
   "metadata": {},
   "outputs": [
    {
     "name": "stdout",
     "output_type": "stream",
     "text": [
      "--------------------\n",
      " with EVERY DAS28    \n",
      "--------------------\n",
      "> Linear Regression\n",
      "MEANS of LOO MAE: 1.6135927409374766\n",
      "STANDARD DEVIATIONs of LOO MAE: 1.3973680482243291\n",
      "--------------------\n",
      " with DAS28 <= 5.1   \n",
      "--------------------\n",
      "Number Entries in Refined X: 117\n",
      "Number Entries in Refined y: 117\n",
      "MEANS of LOO MAE: 1.5944267420420686\n",
      "STANDARD DEVIATIONs of LOO MAE: 1.3776870960145453\n"
     ]
    },
    {
     "data": {
      "text/plain": [
       "<Figure size 432x288 with 0 Axes>"
      ]
     },
     "metadata": {},
     "output_type": "display_data"
    }
   ],
   "source": [
    "#CLP every feature\n",
    "input_file = '/Users/m221138/RA_project/analysis/feature_selection/non_selective_clp_full_feature/clp.full.feature.data.matrix.tsv'\n",
    "plot_output = '/Users/m221138/RA_project/analysis/prediction_w_Linear/CLP_all_features'\n",
    "X, y = get_X_y(input_file)\n",
    "apply_model(X,y, plot_output)"
   ]
  },
  {
   "cell_type": "code",
   "execution_count": 238,
   "metadata": {},
   "outputs": [
    {
     "name": "stdout",
     "output_type": "stream",
     "text": [
      "--------------------\n",
      " with EVERY DAS28    \n",
      "--------------------\n",
      "> Linear Regression\n",
      "MEANS of LOO MAE: 1.0017551012456236\n",
      "STANDARD DEVIATIONs of LOO MAE: 0.7374745400516654\n",
      "--------------------\n",
      " with DAS28 <= 5.1   \n",
      "--------------------\n",
      "Number Entries in Refined X: 117\n",
      "Number Entries in Refined y: 117\n",
      "MEANS of LOO MAE: 0.8884911858699236\n",
      "STANDARD DEVIATIONs of LOO MAE: 0.6170895976361448\n"
     ]
    },
    {
     "data": {
      "text/plain": [
       "<Figure size 432x288 with 0 Axes>"
      ]
     },
     "metadata": {},
     "output_type": "display_data"
    }
   ],
   "source": [
    "#HD4 Specific Selective features\n",
    "input_file = '/Users/m221138/RA_project/analysis/feature_selection/hd4_selective_features/hd4.feature.selection.data.matrix.tsv'\n",
    "plot_output = '/Users/m221138/RA_project/analysis/prediction_w_Linear/HD4_selective'\n",
    "X, y = get_X_y(input_file)\n",
    "apply_model(X,y, plot_output)"
   ]
  },
  {
   "cell_type": "code",
   "execution_count": 239,
   "metadata": {},
   "outputs": [
    {
     "name": "stdout",
     "output_type": "stream",
     "text": [
      "--------------------\n",
      " with EVERY DAS28    \n",
      "--------------------\n",
      "> Linear Regression\n",
      "MEANS of LOO MAE: 1.0862722984446602\n",
      "STANDARD DEVIATIONs of LOO MAE: 0.8260717138937892\n",
      "--------------------\n",
      " with DAS28 <= 5.1   \n",
      "--------------------\n",
      "Number Entries in Refined X: 117\n",
      "Number Entries in Refined y: 117\n",
      "MEANS of LOO MAE: 0.913161751794494\n",
      "STANDARD DEVIATIONs of LOO MAE: 0.6114099202029173\n"
     ]
    },
    {
     "data": {
      "text/plain": [
       "<Figure size 432x288 with 0 Axes>"
      ]
     },
     "metadata": {},
     "output_type": "display_data"
    }
   ],
   "source": [
    "#CLP Specific Selective features\n",
    "input_file = '/Users/m221138/RA_project/analysis/feature_selection/clp_selective_features/clp.feature.selection.data.matrix.tsv'\n",
    "plot_output = '/Users/m221138/RA_project/analysis/prediction_w_Linear/CLP4_selective'\n",
    "X, y = get_X_y(input_file)\n",
    "apply_model(X,y, plot_output)"
   ]
  },
  {
   "cell_type": "code",
   "execution_count": 240,
   "metadata": {},
   "outputs": [
    {
     "name": "stdout",
     "output_type": "stream",
     "text": [
      "--------------------\n",
      " with EVERY DAS28    \n",
      "--------------------\n",
      "> Linear Regression\n",
      "MEANS of LOO MAE: 1.182250929434953\n",
      "STANDARD DEVIATIONs of LOO MAE: 0.8812717241312708\n",
      "--------------------\n",
      " with DAS28 <= 5.1   \n",
      "--------------------\n",
      "Number Entries in Refined X: 117\n",
      "Number Entries in Refined y: 117\n",
      "MEANS of LOO MAE: 1.033466893816963\n",
      "STANDARD DEVIATIONs of LOO MAE: 0.7006899462969737\n"
     ]
    },
    {
     "data": {
      "text/plain": [
       "<Figure size 432x288 with 0 Axes>"
      ]
     },
     "metadata": {},
     "output_type": "display_data"
    }
   ],
   "source": [
    "#Lipid Specific Features (CLP + HD4)\n",
    "input_file = '/Users/m221138/RA_project/analysis/feature_selection/lipid_selective_features/lipid.specific.feature.selection.data.matrix.tsv'\n",
    "plot_output = '/Users/m221138/RA_project/analysis/prediction_w_Linear/CLP_HD4_lipid_selective'\n",
    "X, y = get_X_y(input_file)\n",
    "apply_model(X,y, plot_output)"
   ]
  },
  {
   "cell_type": "code",
   "execution_count": 241,
   "metadata": {},
   "outputs": [
    {
     "name": "stdout",
     "output_type": "stream",
     "text": [
      "--------------------\n",
      " with EVERY DAS28    \n",
      "--------------------\n",
      "> Linear Regression\n",
      "MEANS of LOO MAE: 0.9469070274491844\n",
      "STANDARD DEVIATIONs of LOO MAE: 0.7581347894782824\n",
      "--------------------\n",
      " with DAS28 <= 5.1   \n",
      "--------------------\n",
      "Number Entries in Refined X: 117\n",
      "Number Entries in Refined y: 117\n",
      "MEANS of LOO MAE: 0.8471050233288376\n",
      "STANDARD DEVIATIONs of LOO MAE: 0.5643177789185768\n"
     ]
    },
    {
     "data": {
      "text/plain": [
       "<Figure size 432x288 with 0 Axes>"
      ]
     },
     "metadata": {},
     "output_type": "display_data"
    }
   ],
   "source": [
    "#Lipid exclusive Features (HD4)\n",
    "input_file = '/Users/m221138/RA_project/analysis/feature_selection/hd4_lipid_exclusive_selective_features/lipid.exclusive.feature.selection.data.matrix.tsv'\n",
    "plot_output = '/Users/m221138/RA_project/analysis/prediction_w_Linear/HD4_lipid_exclusive'\n",
    "X, y = get_X_y(input_file)\n",
    "apply_model(X,y, plot_output)"
   ]
  },
  {
   "cell_type": "code",
   "execution_count": 242,
   "metadata": {
    "scrolled": true
   },
   "outputs": [
    {
     "name": "stdout",
     "output_type": "stream",
     "text": [
      "--------------------\n",
      " with EVERY DAS28    \n",
      "--------------------\n",
      "> Linear Regression\n",
      "MEANS of LOO MAE: 1.0961573471535502\n",
      "STANDARD DEVIATIONs of LOO MAE: 0.8170338423125161\n",
      "--------------------\n",
      " with DAS28 <= 5.1   \n",
      "--------------------\n",
      "Number Entries in Refined X: 117\n",
      "Number Entries in Refined y: 117\n",
      "MEANS of LOO MAE: 0.9246749920907816\n",
      "STANDARD DEVIATIONs of LOO MAE: 0.6364277465422343\n"
     ]
    },
    {
     "data": {
      "text/plain": [
       "<Figure size 432x288 with 0 Axes>"
      ]
     },
     "metadata": {},
     "output_type": "display_data"
    }
   ],
   "source": []
  },
  {
   "cell_type": "code",
   "execution_count": null,
   "metadata": {},
   "outputs": [],
   "source": []
  },
  {
   "cell_type": "code",
   "execution_count": null,
   "metadata": {},
   "outputs": [],
   "source": []
  },
  {
   "cell_type": "code",
   "execution_count": null,
   "metadata": {},
   "outputs": [],
   "source": []
  }
 ],
 "metadata": {
  "kernelspec": {
   "display_name": "Python 3",
   "language": "python",
   "name": "python3"
  },
  "language_info": {
   "codemirror_mode": {
    "name": "ipython",
    "version": 3
   },
   "file_extension": ".py",
   "mimetype": "text/x-python",
   "name": "python",
   "nbconvert_exporter": "python",
   "pygments_lexer": "ipython3",
   "version": "3.7.4"
  }
 },
 "nbformat": 4,
 "nbformat_minor": 2
}
