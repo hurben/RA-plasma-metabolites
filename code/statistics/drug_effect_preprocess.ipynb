{
 "cells": [
  {
   "cell_type": "code",
   "execution_count": 1,
   "metadata": {},
   "outputs": [],
   "source": [
    "import pandas as pd"
   ]
  },
  {
   "cell_type": "code",
   "execution_count": 24,
   "metadata": {},
   "outputs": [],
   "source": [
    "data_dir = '/Users/m221138/RA_plasma_metabolites/data'\n",
    "\n",
    "drug_profile = 'DAM_comfound_effect_test_v2.csv'\n",
    "metabolic_profile = 'filled_qc_data/MLR.hd4.ready.ignor.norm.qc.fillna.v2.tsv'\n",
    "\n",
    "drug_profile_file = '%s/%s' % (data_dir, drug_profile)\n",
    "metabolic_profile_file = '%s/%s' % (data_dir, metabolic_profile)\n",
    "selection_profile_file = '%s/%s' % (data_dir,'70_metabolites.csv')\n"
   ]
  },
  {
   "cell_type": "code",
   "execution_count": 12,
   "metadata": {},
   "outputs": [],
   "source": [
    "drug_profile_df = pd.read_csv(drug_profile_file)"
   ]
  },
  {
   "cell_type": "code",
   "execution_count": 10,
   "metadata": {},
   "outputs": [],
   "source": [
    "metabolic_profile_df = pd.read_csv(metabolic_profile_file, sep=\"\\t\")"
   ]
  },
  {
   "cell_type": "code",
   "execution_count": 46,
   "metadata": {},
   "outputs": [],
   "source": [
    "selection_profile_df = pd.read_csv(selection_profile_file)"
   ]
  },
  {
   "cell_type": "code",
   "execution_count": 47,
   "metadata": {},
   "outputs": [],
   "source": [
    "metabolite_list = list(selection_profile_df[\"metabolites\"])"
   ]
  },
  {
   "cell_type": "code",
   "execution_count": 88,
   "metadata": {},
   "outputs": [],
   "source": [
    "def add_row_values_to_dict (data_df, data_dict, key, index):\n",
    "    data_dict[key] = list(data_df.iloc[index,1:])\n",
    "#     print (len(list(data_df.iloc[index,1:])))\n",
    "    return data_dict\n",
    "\n",
    "def add_drug_status_to_dict (data_dict, key, value):\n",
    "    \n",
    "    try: data_dict[key].append(value)\n",
    "    except KeyError: data_dict[key] = [value]\n",
    "        \n",
    "    return data_dict"
   ]
  },
  {
   "cell_type": "code",
   "execution_count": 72,
   "metadata": {},
   "outputs": [
    {
     "name": "stdout",
     "output_type": "stream",
     "text": [
      "[100020546, 100001092, 100001577, 100001253, 250, 100020204, 100001257, 100004575, 100001950, 100000257, 100021141, 100015838, 100001104, 100015831, 100001197, 171, 100004088, 100015839, 100001313, 100001266, 100001254, 100020414, 100003151, 100001391, 415, 1114, 100001987, 100006438, 100004208, 100020536, 100020253, 100001624, 100020578, 100001635, 100002466, 100003397, 344, 100020866, 100002254, 100000939, 100000096, 100000042, 100001586, 100001767, 100008933, 796, 407, 1162, 100020427, 100003892, 565, 100002945, 100001051, 1087, 100002488, 503, 100000010, 803, 1090, 572, 100009082, 100020425, 100020423, 1489, 100001510, 1442, 100002911, 100021374, 338, 363]\n"
     ]
    }
   ],
   "source": [
    "print (metabolite_list)"
   ]
  },
  {
   "cell_type": "code",
   "execution_count": 94,
   "metadata": {},
   "outputs": [],
   "source": [
    "r, c = metabolic_profile_df.shape\n",
    "data_info_dict = {}\n",
    "patientID_list = list(metabolic_profile_df.columns.values)[1:]\n",
    "\n",
    "for i in range(r):\n",
    "    \n",
    "    index_name = metabolic_profile_df.iloc[i,0]\n",
    "    if i == 0: #patientID\n",
    "        add_row_values_to_dict(metabolic_profile_df, data_info_dict, index_name, i)\n",
    "    if i == 1: #sex\n",
    "        add_row_values_to_dict(metabolic_profile_df, data_info_dict, index_name, i)\n",
    "    if i == 2: #age\n",
    "        add_row_values_to_dict(metabolic_profile_df, data_info_dict, index_name, i)\n",
    "    if i > 5:\n",
    "        index_name = int(index_name)\n",
    "        if index_name in metabolite_list:\n",
    "            add_row_values_to_dict(metabolic_profile_df, data_info_dict, index_name, i)"
   ]
  },
  {
   "cell_type": "code",
   "execution_count": 95,
   "metadata": {},
   "outputs": [],
   "source": [
    "r, c = drug_profile_df.shape\n",
    "\n",
    "for i in range(r):\n",
    "    \n",
    "    mtx_status = drug_profile_df.iloc[i,1]\n",
    "    \n",
    "    if mtx_status == \"yes\":\n",
    "        mtx_status = 1\n",
    "    if mtx_status == \"no\":\n",
    "        mtx_status = 0\n",
    "        \n",
    "    csDMARD_status = drug_profile_df.iloc[i,2]\n",
    "    tnfi_status = drug_profile_df.iloc[i,3]\n",
    "    ntnfi_status = drug_profile_df.iloc[i,4]\n",
    "    pred_status = drug_profile_df.iloc[i,5]\n",
    "    \n",
    "    if pred_status == \"yes\":\n",
    "        pred_status = 1\n",
    "    if pred_status == \"no\":\n",
    "        pred_status = 0\n",
    "        \n",
    "    add_drug_status_to_dict(data_info_dict, \"mtx\", mtx_status)\n",
    "    add_drug_status_to_dict(data_info_dict, \"csdmard\", csDMARD_status)\n",
    "    add_drug_status_to_dict(data_info_dict, \"tnfi\", tnfi_status)\n",
    "    add_drug_status_to_dict(data_info_dict, \"ntnfi\", ntnfi_status)\n",
    "    add_drug_status_to_dict(data_info_dict, \"pred\", pred_status)"
   ]
  },
  {
   "cell_type": "code",
   "execution_count": 99,
   "metadata": {},
   "outputs": [],
   "source": [
    "# data_info_dict[\"patientID\"] = patientID_list\n",
    "data_info_dict.keys()\n",
    "factor_key_list = ['patient_dummyID', 'SEX', 'AGE','mtx', 'csdmard', 'tnfi', 'ntnfi', 'pred']"
   ]
  },
  {
   "cell_type": "code",
   "execution_count": 104,
   "metadata": {},
   "outputs": [
    {
     "name": "stdout",
     "output_type": "stream",
     "text": [
      "1\n",
      "100002254\n",
      "2\n",
      "100000257\n",
      "3\n",
      "1114\n",
      "4\n",
      "100001987\n",
      "5\n",
      "100006438\n",
      "6\n",
      "565\n",
      "7\n",
      "100020546\n",
      "8\n",
      "100001254\n",
      "9\n",
      "100004575\n",
      "10\n",
      "100001092\n",
      "11\n",
      "100003151\n",
      "12\n",
      "803\n",
      "13\n",
      "796\n",
      "14\n",
      "100004208\n",
      "15\n",
      "100001266\n",
      "16\n",
      "415\n",
      "17\n",
      "100008933\n",
      "18\n",
      "100020425\n",
      "19\n",
      "100020536\n",
      "20\n",
      "503\n",
      "21\n",
      "100020427\n",
      "22\n",
      "1090\n",
      "23\n",
      "100001051\n",
      "24\n",
      "100001253\n",
      "25\n",
      "100001257\n",
      "26\n",
      "100004088\n",
      "27\n",
      "100009082\n",
      "28\n",
      "1162\n",
      "29\n",
      "100000096\n",
      "30\n",
      "363\n",
      "31\n",
      "100002945\n",
      "32\n",
      "100002466\n",
      "33\n",
      "100001577\n",
      "34\n",
      "100001586\n",
      "35\n",
      "407\n",
      "36\n",
      "100021374\n",
      "37\n",
      "100020204\n",
      "38\n",
      "100020423\n",
      "39\n",
      "100003397\n",
      "40\n",
      "100002488\n",
      "41\n",
      "100015838\n",
      "42\n",
      "250\n",
      "43\n",
      "100001391\n",
      "44\n",
      "1442\n",
      "45\n",
      "100003892\n",
      "46\n",
      "100000042\n",
      "47\n",
      "100015831\n",
      "48\n",
      "100020414\n",
      "49\n",
      "572\n",
      "50\n",
      "100020253\n",
      "51\n",
      "338\n",
      "52\n",
      "1087\n",
      "53\n",
      "100000010\n",
      "54\n",
      "100021141\n",
      "55\n",
      "100001950\n",
      "56\n",
      "100001635\n",
      "57\n",
      "100015839\n",
      "58\n",
      "100001197\n",
      "59\n",
      "100000939\n",
      "60\n",
      "100001313\n",
      "61\n",
      "100002911\n",
      "62\n",
      "1489\n",
      "63\n",
      "100001624\n",
      "64\n",
      "100001104\n",
      "65\n",
      "100020866\n",
      "66\n",
      "100020578\n",
      "67\n",
      "100001510\n",
      "68\n",
      "100001767\n",
      "69\n",
      "171\n",
      "70\n",
      "344\n"
     ]
    }
   ],
   "source": [
    "output_file = '/Users/m221138/RA_plasma_metabolites/data/drug_effect_70_met_profile.txt'\n",
    "output_txt = open(output_file,'w')\n",
    "\n",
    "for patientID in patientID_list:\n",
    "    output_txt.write('\\t%s' % patientID)\n",
    "output_txt.write('\\n')\n",
    "\n",
    "for key in factor_key_list:\n",
    "    output_txt.write(key)\n",
    "    for value in data_info_dict[key]:\n",
    "        output_txt.write('\\t%s' % value)\n",
    "    output_txt.write('\\n')  \n",
    "count = 0\n",
    "for key in data_info_dict.keys():       \n",
    "    if key not in factor_key_list:\n",
    "        count = count + 1\n",
    "        print (count)\n",
    "        print (key)\n",
    "        output_txt.write(str(key))\n",
    "        for value in data_info_dict[key]:\n",
    "            output_txt.write('\\t%s' % value)\n",
    "        output_txt.write('\\n')  "
   ]
  },
  {
   "cell_type": "code",
   "execution_count": null,
   "metadata": {},
   "outputs": [],
   "source": []
  }
 ],
 "metadata": {
  "kernelspec": {
   "display_name": "Python 3",
   "language": "python",
   "name": "python3"
  },
  "language_info": {
   "codemirror_mode": {
    "name": "ipython",
    "version": 3
   },
   "file_extension": ".py",
   "mimetype": "text/x-python",
   "name": "python",
   "nbconvert_exporter": "python",
   "pygments_lexer": "ipython3",
   "version": "3.7.5"
  }
 },
 "nbformat": 4,
 "nbformat_minor": 2
}
