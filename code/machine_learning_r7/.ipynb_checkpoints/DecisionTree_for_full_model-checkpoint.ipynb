{
 "cells": [
  {
   "cell_type": "code",
   "execution_count": 72,
   "metadata": {},
   "outputs": [],
   "source": [
    "#\n",
    "\n",
    "#Decision tree to see the information gain of \"Chemicals\"\n",
    "from sklearn import tree\n",
    "from sklearn.tree import DecisionTreeRegressor\n",
    "import pandas as pd\n",
    "from sklearn.tree import export_graphviz\n",
    "import matplotlib.pyplot as plt\n",
    "from sklearn.tree import plot_tree\n",
    "import pydotplus\n",
    "from IPython.display import Image\n",
    "import operator\n",
    "\n",
    "full_data = '/Users/m221138/RA_project/analysis/all_in_one_r2/hd4_only/full.ml.ready.txt'\n",
    "test_data = '/Users/m221138/RA_project/analysis/all_in_one_r2/hd4_only/full.ml.ready.test.txt'"
   ]
  },
  {
   "cell_type": "code",
   "execution_count": 81,
   "metadata": {},
   "outputs": [],
   "source": [
    "clf = tree.DecisionTreeClassifier()\n",
    "clf = DecisionTreeRegressor(criterion=\"mae\")\n",
    "\n",
    "data_df = pd.read_csv(full_data,index_col=0, sep=\"\\t\")\n",
    "data_df = data_df.T\n",
    "y = data_df.iloc[:,0]\n",
    "X = data_df.iloc[:,1:]\n",
    "\n",
    "test_data_df = pd.read_csv(test_data,index_col=0, sep=\"\\t\")\n",
    "test_data_df = test_data_df.T\n",
    "test_y = test_data_df.iloc[:,0]\n",
    "test_X = test_data_df.iloc[:,1:]"
   ]
  },
  {
   "cell_type": "code",
   "execution_count": 82,
   "metadata": {},
   "outputs": [],
   "source": [
    "model = clf.fit(X,y)\n",
    "#plot_tree(model)\n",
    "dot_data = tree.export_graphviz(model, out_file=None, \n",
    "                                feature_names=X.columns,\n",
    "                                filled=True)\n",
    "graph = pydotplus.graph_from_dot_data(dot_data)  "
   ]
  },
  {
   "cell_type": "code",
   "execution_count": 83,
   "metadata": {},
   "outputs": [
    {
     "data": {
      "text/plain": [
       "True"
      ]
     },
     "execution_count": 83,
     "metadata": {},
     "output_type": "execute_result"
    }
   ],
   "source": [
    "Image(graph.create_png())\n",
    "graph.write_pdf(\"/Users/m221138/RA_project/analysis/all_in_one_r2/DTR.pdf\")"
   ]
  },
  {
   "cell_type": "code",
   "execution_count": 84,
   "metadata": {},
   "outputs": [
    {
     "name": "stdout",
     "output_type": "stream",
     "text": [
      "[4.16226 1.47795 5.71524 2.86797 1.84195 3.75212 1.61795 2.3806  3.01795\n",
      " 1.58995 1.60395 5.37692]\n",
      "ST-00058750    1.74395\n",
      "ST-00079522    1.56195\n",
      "ST-00287851    3.35488\n",
      "ST-00290771    1.86335\n",
      "ST-00329527    3.12251\n",
      "ST-00356509    1.73138\n",
      "ST-00435597    2.12195\n",
      "ST-00621700    5.86979\n",
      "ST-00637791    2.43390\n",
      "ST-00717157    1.60503\n",
      "ST-00717455    1.47795\n",
      "ST-00732623    1.67860\n",
      "Name: DAS28, dtype: float64\n"
     ]
    },
    {
     "data": {
      "text/plain": [
       "[2.41831,\n",
       " -0.08399999999999985,\n",
       " 2.3603600000000005,\n",
       " 1.00462,\n",
       " -1.2805599999999997,\n",
       " 2.02074,\n",
       " -0.504,\n",
       " -3.4891900000000002,\n",
       " 0.58405,\n",
       " -0.015079999999999982,\n",
       " 0.1259999999999999,\n",
       " 3.69832]"
      ]
     },
     "execution_count": 84,
     "metadata": {},
     "output_type": "execute_result"
    }
   ],
   "source": [
    "prediction = model.predict(test_X)\n",
    "print (prediction)\n",
    "print (test_y)\n",
    "\n",
    "map_object = map(operator.sub, prediction, test_y)\n",
    "list(map_object)\n"
   ]
  },
  {
   "cell_type": "code",
   "execution_count": 79,
   "metadata": {},
   "outputs": [
    {
     "data": {
      "text/plain": [
       "[-1, -1, -1, -1, -1]"
      ]
     },
     "execution_count": 79,
     "metadata": {},
     "output_type": "execute_result"
    }
   ],
   "source": [
    "a = [1,2,3,4,5]\n",
    "b = [2,3,4,5,6]\n",
    "map_object = map(operator.sub, a, b)\n",
    "list(map_object)"
   ]
  },
  {
   "cell_type": "code",
   "execution_count": null,
   "metadata": {},
   "outputs": [],
   "source": []
  }
 ],
 "metadata": {
  "kernelspec": {
   "display_name": "Python 3",
   "language": "python",
   "name": "python3"
  },
  "language_info": {
   "codemirror_mode": {
    "name": "ipython",
    "version": 3
   },
   "file_extension": ".py",
   "mimetype": "text/x-python",
   "name": "python",
   "nbconvert_exporter": "python",
   "pygments_lexer": "ipython3",
   "version": "3.7.4"
  }
 },
 "nbformat": 4,
 "nbformat_minor": 2
}
