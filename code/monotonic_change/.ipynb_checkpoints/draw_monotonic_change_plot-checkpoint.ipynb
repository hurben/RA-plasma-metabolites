{
 "cells": [
  {
   "cell_type": "code",
   "execution_count": 7,
   "metadata": {},
   "outputs": [],
   "source": [
    "import sys\n",
    "import pandas as pd\n",
    "import matplotlib.pyplot as plt\n",
    "import seaborn as sns"
   ]
  },
  {
   "cell_type": "code",
   "execution_count": 60,
   "metadata": {},
   "outputs": [],
   "source": [
    "def value_to_dict(i, class_num, data_dict, data_info_dict, foldchange):\n",
    "    \n",
    "    chemID = file_df.iloc[i,0]\n",
    "    mean_list = []\n",
    "\n",
    "    for j in range(class_num):\n",
    "        chem_j_mean = file_df.iloc[i, j + 1]\n",
    "        mean_list.append(chem_j_mean)\n",
    "    \n",
    "    status = file_df.iloc[i, class_num + 1]\n",
    "    pval = float(file_df.iloc[i, class_num + 2])\n",
    "    \n",
    "    if pval < 0.05:\n",
    "        data_dict[class_num, foldchange, chemID] = mean_list\n",
    "        data_info_dict[class_num, foldchange, chemID] = [status, pval]\n",
    "        \n",
    "        try : data_chem_dict[class_num, foldchange, status].append(chemID)\n",
    "        except KeyError: data_chem_dict[class_num, foldchange, status] = [chemID]\n",
    "    \n",
    "        \n",
    "    return data_dict, data_info_dict, data_chem_dict\n",
    "    "
   ]
  },
  {
   "cell_type": "code",
   "execution_count": 62,
   "metadata": {},
   "outputs": [],
   "source": [
    "foldchange_list = [0.1,0.2,0.3,0.4]\n",
    "class_list = [3,4]\n",
    "\n",
    "data_dict = {}\n",
    "data_info_dict = {}\n",
    "data_chem_dict = {}\n",
    "\n",
    "for class_num in class_list:\n",
    "    for foldchange in foldchange_list:\n",
    "        file_dir = '%s%s%s%s%s' % ('/Users/m221138/RA_project/analysis/monotonic_change_r1/class', \n",
    "                                   class_num, '_r1/MLR.hd4.ready.monotonic_profile_', str(foldchange), '.tsv')\n",
    "            \n",
    "        file_df = pd.read_csv(file_dir, sep=\"\\t\", header=0)\n",
    "        r, c = file_df.shape\n",
    "        \n",
    "        for i in range(r):\n",
    "            \n",
    "            if class_num == 3:\n",
    "                data_dict, data_info_dict, data_chem_dict = value_to_dict(i, class_num, data_dict, data_info_dict, foldchange)\n",
    "                \n",
    "            if class_num == 4:\n",
    "                data_dict, data_info_dict, data_chem_dict = value_to_dict(i, class_num, data_dict, data_info_dict, foldchange)\n"
   ]
  },
  {
   "cell_type": "code",
   "execution_count": 82,
   "metadata": {},
   "outputs": [
    {
     "data": {
      "text/plain": [
       "<Figure size 432x288 with 0 Axes>"
      ]
     },
     "metadata": {},
     "output_type": "display_data"
    }
   ],
   "source": [
    "status_list = ['up','down']\n",
    "output_dir = '/Users/m221138/RA_project/analysis/monotonic_change_r1'\n",
    "for class_num in class_list:\n",
    "    \n",
    "    if class_num == 3:\n",
    "        x_list = [1, 2, 3]\n",
    "    if class_num == 4:\n",
    "        x_list = [1, 2, 3, 4]\n",
    "    for status in status_list:     \n",
    "        for foldchange in foldchange_list:\n",
    "            output_pdf = '%s/%sclass_%s_%s.pdf' % (output_dir, class_num, foldchange, status)\n",
    "            \n",
    "            try:\n",
    "                chemID_list = data_chem_dict[class_num, foldchange, status]\n",
    "\n",
    "                for chemID in chemID_list:\n",
    "                    mean_list = data_dict[class_num, foldchange, chemID]\n",
    "                    monotonic_plot = sns.lineplot(x_list, mean_list)\n",
    "                    monotonic_plot = sns.scatterplot(x_list, mean_list)\n",
    "\n",
    "                monotonic_plot.legend(chemID_list)\n",
    "                monotonic_plot.set(xlabel=\"Class %s\" % x_list , ylabel=\"Chemical Abundance\")\n",
    "                monotonic_plot.get_figure()\n",
    "                monotonic_plot.figure.savefig(output_pdf)\n",
    "                monotonic_plot.get_figure().clf()\n",
    "            except KeyError:\n",
    "                None\n"
   ]
  },
  {
   "cell_type": "code",
   "execution_count": null,
   "metadata": {},
   "outputs": [],
   "source": []
  }
 ],
 "metadata": {
  "kernelspec": {
   "display_name": "Python 3",
   "language": "python",
   "name": "python3"
  },
  "language_info": {
   "codemirror_mode": {
    "name": "ipython",
    "version": 3
   },
   "file_extension": ".py",
   "mimetype": "text/x-python",
   "name": "python",
   "nbconvert_exporter": "python",
   "pygments_lexer": "ipython3",
   "version": "3.7.5"
  }
 },
 "nbformat": 4,
 "nbformat_minor": 2
}
