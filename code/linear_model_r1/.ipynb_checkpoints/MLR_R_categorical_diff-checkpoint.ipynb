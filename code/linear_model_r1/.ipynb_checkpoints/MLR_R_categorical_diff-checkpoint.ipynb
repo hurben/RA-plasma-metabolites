{
 "cells": [
  {
   "cell_type": "code",
   "execution_count": 1,
   "metadata": {},
   "outputs": [
    {
     "name": "stderr",
     "output_type": "stream",
     "text": [
      "Loading required package: Matrix\n",
      "\n",
      "\n",
      "Attaching package: ‘lmerTest’\n",
      "\n",
      "\n",
      "The following object is masked from ‘package:lme4’:\n",
      "\n",
      "    lmer\n",
      "\n",
      "\n",
      "The following object is masked from ‘package:stats’:\n",
      "\n",
      "    step\n",
      "\n",
      "\n",
      "Loading required package: carData\n",
      "\n",
      "lattice theme set by effectsTheme()\n",
      "See ?effectsTheme for details.\n",
      "\n"
     ]
    }
   ],
   "source": [
    "library(lme4)\n",
    "library(lmerTest)\n",
    "library(effects)\n",
    "library(stringr)\n"
   ]
  },
  {
   "cell_type": "code",
   "execution_count": 2,
   "metadata": {},
   "outputs": [],
   "source": [
    "data_dir <- \"/Users/m221138/RA_project/data/filled_qc_data/\"\n",
    "hd4_prefix <- \"MLR.hd4.ready.ignor.norm.qc.fillna.\"\n",
    "data_category_list <- c(\"h.tsv\", \"l.tsv\", \"m.tsv\", \"r.tsv\")\n"
   ]
  },
  {
   "cell_type": "code",
   "execution_count": null,
   "metadata": {
    "scrolled": false
   },
   "outputs": [],
   "source": [
    "#I HATE NON-ZEROBASED LIST INDEX\n",
    "NUM_CATEGORY <- length(data_category_list) + 1\n",
    "\n",
    "counter <- 1\n",
    "counter_2nd <- counter + 1\n",
    "\n",
    "while (counter < NUM_CATEGORY){\n",
    "#Outer Category Loop\n",
    "    category <- data_category_list[counter]\n",
    "    file_name_1 <- paste(data_dir, hd4_prefix, category, sep=\"\")\n",
    "    \n",
    "    log_message <- paste(\"STEP #\", counter, sep=\"\")\n",
    "    print (log_message)\n",
    "    log_message <- paste(\"= \", file_name_1, sep=\"\")\n",
    "    print (log_message)\n",
    "    \n",
    "    counter_2nd <- counter + 1\n",
    "    \n",
    "    while (counter_2nd < NUM_CATEGORY){\n",
    "    #Inner Category Loop\n",
    "        category_2 <- data_category_list[counter_2nd]\n",
    "        file_name_2 <- paste(data_dir, hd4_prefix, category_2, sep=\"\")\n",
    "        log_message <- paste(\"=== \", file_name_2, sep=\"\")\n",
    "        print (log_message)\n",
    "        \n",
    "        data_df_1 <- read.csv(file_name_1, sep=\"\\t\", header=TRUE, row.names=1)\n",
    "        data_df_1 <- as.data.frame(t(data_df_1))\n",
    "        NUM_CHEM_ID_1 <- ncol(data_df_1)\n",
    "        \n",
    "        data_df_2 <- read.csv(file_name_2, sep=\"\\t\", header=TRUE, row.names=1)\n",
    "        data_df_2 <- as.data.frame(t(data_df_2))\n",
    "        NUM_CHEM_ID_2 <- ncol(data_df_2) \n",
    "    \n",
    "        chemID_list <- colnames(data_df_1)\n",
    "        chemID_list_2 <- colnames(data_df_2)\n",
    "        \n",
    "        if (identical(chemID_list, chemID_list_2) != TRUE){\n",
    "        #Error Check\n",
    "            print (\"Error, Two given files have different size\")\n",
    "        }\n",
    "\n",
    "        if (NUM_CHEM_ID_1 == NUM_CHEM_ID_2){\n",
    "        #Start integrate two files    \n",
    "\n",
    "            for (i in 1:NUM_CHEM_ID_1){\n",
    "                \n",
    "                if (i > 4){\n",
    "                    chem_column_ID <- chemID_list[i]\n",
    "                    \n",
    "                    temp_df_1 <- data_df_1[,1:4]\n",
    "                    chem_column_1 <- data_df_1[,i]\n",
    "                \n",
    "                    temp_df_2 <- data_df_2[,1:4]\n",
    "                    chem_column_2 <- data_df_2[,i]\n",
    "                    \n",
    "                    print (data_df_1[,i])\n",
    "\n",
    "                }\n",
    "                quit() #BREAK\n",
    "            }\n",
    "        }    \n",
    "    quit()#BREAK    \n",
    "    counter_2nd <- counter_2nd + 1\n",
    "    }\n",
    "    quit()#BREAK\n",
    "    counter <- counter + 1\n",
    "}"
   ]
  },
  {
   "cell_type": "code",
   "execution_count": 5,
   "metadata": {},
   "outputs": [
    {
     "data": {
      "text/html": [
       "TRUE"
      ],
      "text/latex": [
       "TRUE"
      ],
      "text/markdown": [
       "TRUE"
      ],
      "text/plain": [
       "[1] TRUE"
      ]
     },
     "metadata": {},
     "output_type": "display_data"
    },
    {
     "name": "stdout",
     "output_type": "stream",
     "text": [
      "[1] 825\n",
      "[1] 128\n",
      "[1] \"LPC(20:3)\"\n",
      "       value        numdf        dendf \n",
      "5.003227e-03 1.000000e+00 1.260000e+02 \n",
      "Linear mixed model fit by REML ['lmerModLmerTest']\n",
      "Formula: DAS ~ chem_profile + SEX + AGE + (1 | patient_dummyID)\n",
      "   Data: data_profile\n",
      "REML criterion at convergence: 420.4308\n",
      "Random effects:\n",
      " Groups          Name        Std.Dev.\n",
      " patient_dummyID (Intercept) 1.0424  \n",
      " Residual                    0.8686  \n",
      "Number of obs: 128, groups:  patient_dummyID, 64\n",
      "Fixed Effects:\n",
      " (Intercept)  chem_profile           SEX           AGE  \n",
      "     3.67579      -0.04106      -0.37121      -0.00678  \n"
     ]
    }
   ],
   "source": [
    "# output_txt = '/Users/m221138/RA_project/analysis/linear_model_r1/MLR.clp.sc.tsv'\n",
    "# if (file.exists(output_txt)){\n",
    "#     file.remove(output_txt)\n",
    "# }\n",
    "\n",
    "# NUM_CHEM_ID <- ncol(data_profile)\n",
    "# NUM_patient_timepoint <- nrow(data_profile)\n",
    "\n",
    "# cat('chemID\\tsimpleLRM_Fstatistics\\tmultiLRM(chem_sig)\\tmultiLRM(sex_sig)\\tmultiLRM(age_sig)\\n', file=output_txt, append=TRUE)\n",
    "\n",
    "# print (NUM_CHEM_ID)\n",
    "# print (NUM_patient_timepoint)\n",
    "\n",
    "# for (i in 1:NUM_CHEM_ID){\n",
    "#     if (i > 4){\n",
    "#         output_string <- ''\n",
    "       \n",
    "#         chemID <- colnames(data_profile)[i]\n",
    "#         chem_profile <- data_profile[,i]\n",
    "#         print (chemID)\n",
    "        \n",
    "#         output_pdf <- paste(plot_dir, '/', i, \".pdf\")\n",
    "#         output_pdf <- str_replace_all(output_pdf,\" \",\"\")\n",
    "        \n",
    "#         simple_LRM <- lm(DAS ~ chem_profile, data=data_profile)\n",
    "#         simple_LRM_stats <- summary(simple_LRM)$fstatistic\n",
    "#         print (simple_LRM_stats)\n",
    "#         simple_LRM_f_pvalue<- pf(simple_LRM_stats[1], simple_LRM_stats[2], simple_LRM_stats[3], lower.tail=FALSE)\n",
    "#         simple_LRM_rsquare <- summary(simple_LRM)$adj.r.squared\n",
    "        \n",
    "#         multi_LRM <- lmer(DAS ~ chem_profile + SEX + AGE + (1|patient_dummyID), data=data_profile)\n",
    "#         print (multi_LRM)\n",
    "#         break\n",
    "#         chem_sig <- anova(multi_LRM)$Pr[1]\n",
    "#         sex_sig <- anova(multi_LRM)$Pr[2]\n",
    "#         age_sig <- anova(multi_LRM)$Pr[3]\n",
    "        \n",
    "#         output_string <- paste(chemID,\"\\t\", simple_LRM_f_pvalue,\"\\t\", chem_sig, \"\\t\", sex_sig, \"\\t\", age_sig, \"\\n\")\n",
    "#         cat(output_string, file=output_txt, append=TRUE)\n",
    "        \n",
    "#         plot1 <- allEffects(simple_LRM)\n",
    "#         plot2 <- allEffects(multi_LRM)[1]\n",
    "#         plot(allEffects(multi_LRM)[1], main=\"MLM\", xlab=chemID)\n",
    "        \n",
    "#         if (chem_sig < 0.05){\n",
    "#             #pdf(output_pdf)\n",
    "#             par(mfrow=c(1,2))\n",
    "#             plot(allEffects(simple_LRM), main=\"SLM\")\n",
    "#             plot(allEffects(multi_LRM)[1], main=\"MLM\")\n",
    "#             #dev.off()\n",
    "#         }\n",
    "#         break\n",
    "#     }\n",
    "# }\n"
   ]
  },
  {
   "cell_type": "code",
   "execution_count": null,
   "metadata": {},
   "outputs": [],
   "source": []
  }
 ],
 "metadata": {
  "kernelspec": {
   "display_name": "R",
   "language": "R",
   "name": "ir"
  },
  "language_info": {
   "codemirror_mode": "r",
   "file_extension": ".r",
   "mimetype": "text/x-r-source",
   "name": "R",
   "pygments_lexer": "r",
   "version": "3.6.1"
  }
 },
 "nbformat": 4,
 "nbformat_minor": 2
}
