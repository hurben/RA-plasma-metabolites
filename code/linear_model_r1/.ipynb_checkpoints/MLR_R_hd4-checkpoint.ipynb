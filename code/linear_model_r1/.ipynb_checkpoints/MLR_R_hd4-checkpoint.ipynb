{
 "cells": [
  {
   "cell_type": "code",
   "execution_count": 59,
   "metadata": {},
   "outputs": [],
   "source": [
    "data_profile <- read.csv('/Users/m221138/RA_project/analysis/linear_model/MLR.hd4.ready.tsv', sep=\"\\t\", row.names=1, header=TRUE)\n",
    "data_profile <- as.data.frame(t(data_profile))"
   ]
  },
  {
   "cell_type": "code",
   "execution_count": 58,
   "metadata": {},
   "outputs": [
    {
     "data": {
      "text/html": [
       "TRUE"
      ],
      "text/latex": [
       "TRUE"
      ],
      "text/markdown": [
       "TRUE"
      ],
      "text/plain": [
       "[1] TRUE"
      ]
     },
     "metadata": {},
     "output_type": "display_data"
    }
   ],
   "source": [
    "# output_txt = '/Users/m221138/RA_project/analysis/linear_model/MLR.hd4.tsv'\n",
    "# if (file.exists(output_txt)){\n",
    "#     file.remove(output_txt)\n",
    "# }\n",
    "\n",
    "# NUM_CHEM_ID <- ncol(data_profile)\n",
    "# NUM_patient_timepoint <- nrow(data_profile)\n",
    "\n",
    "# output_txt <- ''\n",
    "# cat('chemID\\tsimpleLRM_Fstatistics\\tmultiLRM_Fstatistics\\n', file='/Users/m221138/RA_project/analysis/linear_model/MLR.hd4.tsv', append=TRUE)\n",
    "\n",
    "\n",
    "# for (i in 1:NUM_CHEM_ID){\n",
    "#     if (i > 3){\n",
    "#         output_string <- ''\n",
    "        \n",
    "#         chemID <- colnames(data_profile)[i]\n",
    "#         chem_profile <- data_profile[,i]\n",
    "        \n",
    "#         simple_LRM <- lm(DAS ~ chem_profile, data=data_profile)\n",
    "#         simple_LRM_stats <- summary(simple_LRM)$fstatistic\n",
    "        \n",
    "#         if (is.null(simple_LRM_stats) == FALSE){\n",
    "#             simple_LRM_f_pvalue<- pf(simple_LRM_stats[1], simple_LRM_stats[2], simple_LRM_stats[3], lower.tail=FALSE)\n",
    "#             #simple_LRM_coeff <- summary(simple_LRM)$coefficients\n",
    "#             }\n",
    "#         else{\n",
    "#             simple_LRM_f_pvalue <- \"NaN\"\n",
    "#         }\n",
    "\n",
    "#         multi_LRM <- lm(DAS ~ chem_profile + SEX + AGE, data=data_profile)\n",
    "#         multi_LRM_stats <- summary(multi_LRM)$fstatistic\n",
    "\n",
    "#         if (is.null(multi_LRM_stats) == FALSE){\n",
    "#             multi_LRM_f_pvalue<- pf(multi_LRM_stats[1], multi_LRM_stats[2], multi_LRM_stats[3], lower.tail=FALSE)\n",
    "#             #multi_LRM_coeff <- summary(multi_LRM)$coefficients\n",
    "#             }\n",
    "#         else{\n",
    "#             multi_LRM_f_pvalue <- \"NaN\"\n",
    "#         }\n",
    "        \n",
    "#         output_string <- paste(chemID,\"\\t\", simple_LRM_f_pvalue,\"\\t\", multi_LRM_f_pvalue, \"\\n\")\n",
    "\n",
    "#         cat(output_string, file='/Users/m221138/RA_project/analysis/linear_model/MLR.hd4.tsv', append=TRUE)\n",
    "\n",
    "#     }\n",
    "# }"
   ]
  },
  {
   "cell_type": "code",
   "execution_count": 64,
   "metadata": {},
   "outputs": [
    {
     "data": {
      "text/html": [
       "TRUE"
      ],
      "text/latex": [
       "TRUE"
      ],
      "text/markdown": [
       "TRUE"
      ],
      "text/plain": [
       "[1] TRUE"
      ]
     },
     "metadata": {},
     "output_type": "display_data"
    }
   ],
   "source": [
    "output_txt = '/Users/m221138/RA_project/analysis/linear_model/MLR.hd4.full.tsv'\n",
    "if (file.exists(output_txt)){\n",
    "    file.remove(output_txt)\n",
    "}\n",
    "\n",
    "NUM_CHEM_ID <- ncol(data_profile)\n",
    "NUM_patient_timepoint <- nrow(data_profile)\n",
    "\n",
    "output_txt <- ''\n",
    "cat('chemID\\tsimpleLRM_Fstatistics\\tmultiLRM_Fstatistics\\tsimpleLRM_rsquare\\tmultiLRM_rsquare\\tmodel_compare\\n', file='/Users/m221138/RA_project/analysis/linear_model/MLR.hd4.full.tsv', append=TRUE)\n",
    "\n",
    "for (i in 1:NUM_CHEM_ID){\n",
    "    if (i > 3){\n",
    "        output_string <- ''\n",
    "        \n",
    "        chemID <- colnames(data_profile)[i]\n",
    "        chem_profile <- data_profile[,i]\n",
    "        \n",
    "        simple_LRM <- lm(DAS ~ chem_profile, data=data_profile)\n",
    "        simple_LRM_stats <- summary(simple_LRM)$fstatistic\n",
    "        \n",
    "        if (is.null(simple_LRM_stats) == FALSE){\n",
    "            simple_LRM_f_pvalue<- pf(simple_LRM_stats[1], simple_LRM_stats[2], simple_LRM_stats[3], lower.tail=FALSE)\n",
    "            #simple_LRM_coeff <- summary(simple_LRM)$coefficients\n",
    "            simple_LRM_rsquare <- summary(simple_LRM)$adj.r.squared\n",
    "            }\n",
    "        else{\n",
    "            simple_LRM_f_pvalue <- \"NaN\"\n",
    "        }\n",
    "\n",
    "        multi_LRM <- lm(DAS ~ chem_profile + SEX + AGE, data=data_profile)\n",
    "        multi_LRM_stats <- summary(multi_LRM)$fstatistic\n",
    "\n",
    "        if (is.null(multi_LRM_stats) == FALSE){\n",
    "            multi_LRM_f_pvalue<- pf(multi_LRM_stats[1], multi_LRM_stats[2], multi_LRM_stats[3], lower.tail=FALSE)\n",
    "            #multi_LRM_coeff <- summary(multi_LRM)$coefficients\n",
    "            multi_LRM_rsquare <- summary(multi_LRM)$adj.r.square\n",
    "            }\n",
    "        else{\n",
    "            multi_LRM_f_pvalue <- \"NaN\"\n",
    "        }\n",
    "        \n",
    "        compare_models <- anova(simple_LRM, multi_LRM)\n",
    "        model_sig <- compare_models$Pr[2]\n",
    "        output_string <- paste(chemID,\"\\t\", simple_LRM_f_pvalue,\"\\t\", multi_LRM_f_pvalue, \"\\t\", simple_LRM_rsquare, \"\\t\", multi_LRM_rsquare, \"\\t\", model_sig, \"\\n\")\n",
    "\n",
    "        cat(output_string, file='/Users/m221138/RA_project/analysis/linear_model/MLR.hd4.full.tsv', append=TRUE)\n",
    "\n",
    "    }\n",
    "}"
   ]
  },
  {
   "cell_type": "code",
   "execution_count": 53,
   "metadata": {},
   "outputs": [
    {
     "name": "stderr",
     "output_type": "stream",
     "text": [
      "── \u001b[1mAttaching packages\u001b[22m ─────────────────────────────────────── tidyverse 1.3.0 ──\n",
      "\u001b[32m✔\u001b[39m \u001b[34mggplot2\u001b[39m 3.2.1     \u001b[32m✔\u001b[39m \u001b[34mpurrr  \u001b[39m 0.3.3\n",
      "\u001b[32m✔\u001b[39m \u001b[34mtibble \u001b[39m 2.1.3     \u001b[32m✔\u001b[39m \u001b[34mdplyr  \u001b[39m 0.8.3\n",
      "\u001b[32m✔\u001b[39m \u001b[34mtidyr  \u001b[39m 1.0.0     \u001b[32m✔\u001b[39m \u001b[34mstringr\u001b[39m 1.4.0\n",
      "\u001b[32m✔\u001b[39m \u001b[34mreadr  \u001b[39m 1.3.1     \u001b[32m✔\u001b[39m \u001b[34mforcats\u001b[39m 0.4.0\n",
      "── \u001b[1mConflicts\u001b[22m ────────────────────────────────────────── tidyverse_conflicts() ──\n",
      "\u001b[31m✖\u001b[39m \u001b[34mdplyr\u001b[39m::\u001b[32mfilter()\u001b[39m masks \u001b[34mstats\u001b[39m::filter()\n",
      "\u001b[31m✖\u001b[39m \u001b[34mdplyr\u001b[39m::\u001b[32mlag()\u001b[39m    masks \u001b[34mstats\u001b[39m::lag()\n",
      "Loading required package: magrittr\n",
      "\n",
      "Attaching package: ‘magrittr’\n",
      "\n",
      "The following object is masked from ‘package:purrr’:\n",
      "\n",
      "    set_names\n",
      "\n",
      "The following object is masked from ‘package:tidyr’:\n",
      "\n",
      "    extract\n",
      "\n"
     ]
    },
    {
     "data": {
      "text/html": [
       "<table>\n",
       "<caption>A data.frame: 4 × 4</caption>\n",
       "<thead>\n",
       "\t<tr><th scope=col>youtube</th><th scope=col>facebook</th><th scope=col>newspaper</th><th scope=col>sales</th></tr>\n",
       "\t<tr><th scope=col>&lt;dbl&gt;</th><th scope=col>&lt;dbl&gt;</th><th scope=col>&lt;dbl&gt;</th><th scope=col>&lt;dbl&gt;</th></tr>\n",
       "</thead>\n",
       "<tbody>\n",
       "\t<tr><td>276.12</td><td>45.36</td><td>83.04</td><td>26.52</td></tr>\n",
       "\t<tr><td> 53.40</td><td>47.16</td><td>54.12</td><td>12.48</td></tr>\n",
       "\t<tr><td> 20.64</td><td>55.08</td><td>83.16</td><td>11.16</td></tr>\n",
       "\t<tr><td>181.80</td><td>49.56</td><td>70.20</td><td>22.20</td></tr>\n",
       "</tbody>\n",
       "</table>\n"
      ],
      "text/latex": [
       "A data.frame: 4 × 4\n",
       "\\begin{tabular}{r|llll}\n",
       " youtube & facebook & newspaper & sales\\\\\n",
       " <dbl> & <dbl> & <dbl> & <dbl>\\\\\n",
       "\\hline\n",
       "\t 276.12 & 45.36 & 83.04 & 26.52\\\\\n",
       "\t  53.40 & 47.16 & 54.12 & 12.48\\\\\n",
       "\t  20.64 & 55.08 & 83.16 & 11.16\\\\\n",
       "\t 181.80 & 49.56 & 70.20 & 22.20\\\\\n",
       "\\end{tabular}\n"
      ],
      "text/markdown": [
       "\n",
       "A data.frame: 4 × 4\n",
       "\n",
       "| youtube &lt;dbl&gt; | facebook &lt;dbl&gt; | newspaper &lt;dbl&gt; | sales &lt;dbl&gt; |\n",
       "|---|---|---|---|\n",
       "| 276.12 | 45.36 | 83.04 | 26.52 |\n",
       "|  53.40 | 47.16 | 54.12 | 12.48 |\n",
       "|  20.64 | 55.08 | 83.16 | 11.16 |\n",
       "| 181.80 | 49.56 | 70.20 | 22.20 |\n",
       "\n"
      ],
      "text/plain": [
       "  youtube facebook newspaper sales\n",
       "1 276.12  45.36    83.04     26.52\n",
       "2  53.40  47.16    54.12     12.48\n",
       "3  20.64  55.08    83.16     11.16\n",
       "4 181.80  49.56    70.20     22.20"
      ]
     },
     "metadata": {},
     "output_type": "display_data"
    }
   ],
   "source": [
    "library(tidyverse)\n",
    "library(ggpubr)\n",
    "theme_set(theme_pubr())\n",
    "data(\"marketing\", package = \"datarium\")\n",
    "head(marketing, 4)"
   ]
  },
  {
   "cell_type": "code",
   "execution_count": 63,
   "metadata": {},
   "outputs": [
    {
     "data": {
      "text/plain": [
       "\n",
       "Call:\n",
       "lm(formula = sales ~ youtube, data = marketing)\n",
       "\n",
       "Residuals:\n",
       "     Min       1Q   Median       3Q      Max \n",
       "-10.0632  -2.3454  -0.2295   2.4805   8.6548 \n",
       "\n",
       "Coefficients:\n",
       "            Estimate Std. Error t value Pr(>|t|)    \n",
       "(Intercept) 8.439112   0.549412   15.36   <2e-16 ***\n",
       "youtube     0.047537   0.002691   17.67   <2e-16 ***\n",
       "---\n",
       "Signif. codes:  0 ‘***’ 0.001 ‘**’ 0.01 ‘*’ 0.05 ‘.’ 0.1 ‘ ’ 1\n",
       "\n",
       "Residual standard error: 3.91 on 198 degrees of freedom\n",
       "Multiple R-squared:  0.6119,\tAdjusted R-squared:  0.6099 \n",
       "F-statistic: 312.1 on 1 and 198 DF,  p-value: < 2.2e-16\n"
      ]
     },
     "metadata": {},
     "output_type": "display_data"
    },
    {
     "data": {
      "text/plain": [
       "NULL"
      ]
     },
     "metadata": {},
     "output_type": "display_data"
    }
   ],
   "source": [
    "model <- lm(sales ~ youtube, data = marketing)\n",
    "summary(model)\n",
    "\n",
    "model <- lm(sales ~ youtube + facebook + newspaper, data = marketing)\n"
   ]
  },
  {
   "cell_type": "code",
   "execution_count": null,
   "metadata": {},
   "outputs": [],
   "source": []
  }
 ],
 "metadata": {
  "kernelspec": {
   "display_name": "R",
   "language": "R",
   "name": "ir"
  },
  "language_info": {
   "codemirror_mode": "r",
   "file_extension": ".r",
   "mimetype": "text/x-r-source",
   "name": "R",
   "pygments_lexer": "r",
   "version": "3.6.1"
  }
 },
 "nbformat": 4,
 "nbformat_minor": 2
}
