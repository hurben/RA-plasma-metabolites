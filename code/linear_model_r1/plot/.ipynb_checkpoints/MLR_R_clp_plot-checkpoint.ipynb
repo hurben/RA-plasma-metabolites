{
 "cells": [
  {
   "cell_type": "code",
   "execution_count": 1,
   "metadata": {},
   "outputs": [
    {
     "name": "stderr",
     "output_type": "stream",
     "text": [
      "Loading required package: MASS\n",
      "Loading required package: Matrix\n",
      "Package 'mclust' version 5.4.5\n",
      "Type 'citation(\"mclust\")' for citing this R package in publications.\n"
     ]
    }
   ],
   "source": [
    "library(ggplot2)\n",
    "library(ggrepel)\n",
    "library(EMCluster)\n",
    "library(ggpmisc)\n",
    "library(mclust)"
   ]
  },
  {
   "cell_type": "code",
   "execution_count": 2,
   "metadata": {},
   "outputs": [],
   "source": [
    "data_profile <- read.csv('/Users/m221138/RA_project/analysis/linear_model_r1/plots/clp/LM.clp.plot.ready.profile.tsv', sep=\"\\t\", row.names=1, header=TRUE)\n",
    "data_profile <- as.data.frame(t(data_profile))\n"
   ]
  },
  {
   "cell_type": "code",
   "execution_count": 11,
   "metadata": {},
   "outputs": [
    {
     "name": "stdout",
     "output_type": "stream",
     "text": [
      "[1] 7\n",
      "[1] 118\n",
      "[1] \"100009835\"\n",
      "[1] 0.5573693\n",
      "NULL\n",
      "[1] \"100010479\"\n",
      "[1] 0.5555643\n",
      "NULL\n",
      "[1] \"100010827\"\n",
      "[1] 0.6492051\n",
      "NULL\n",
      "[1] \"100009628\"\n",
      "[1] 0.2504376\n",
      "NULL\n",
      "[1] \"100009435\"\n",
      "[1] 0.7003209\n",
      "NULL\n"
     ]
    }
   ],
   "source": [
    "\n",
    "NUM_CHEM_ID <- ncol(data_profile)\n",
    "NUM_patient_timepoint <- nrow(data_profile)\n",
    "\n",
    "print (NUM_CHEM_ID)\n",
    "print (NUM_patient_timepoint)\n",
    "\n",
    "for (i in 1:NUM_CHEM_ID){\n",
    "    if (i > 2){\n",
    "        \n",
    "        chemID <- colnames(data_profile)[i]\n",
    "        print (chemID)\n",
    "        output_name <- paste('/Users/m221138/RA_project/analysis/linear_model_r1/plots/clp/',chemID, \".pdf\", sep=\"\")\n",
    "\n",
    "\n",
    "        chem_profile <- data_profile[,i]\n",
    "        simple_LRM <- lm(DAS28 ~ chem_profile, data=data_profile)\n",
    "\n",
    "        bad <- subset(data_profile, data_profile$DAS_LABEL == 1, select = c(\"DAS28\",chemID,\"DAS_LABEL\"))\n",
    "        good <- subset(data_profile, data_profile$DAS_LABEL == 0, select = c(\"DAS28\",chemID,\"DAS_LABEL\"))\n",
    "        bad_lm <- lm(DAS28 ~ bad[,2], data=bad)\n",
    "        bad_lm_stats <- summary(bad_lm)$fstatistic\n",
    "        bad_lm_f_pvalue<- pf(bad_lm_stats[1], bad_lm_stats[2], bad_lm_stats[3], lower.tail=FALSE)\n",
    "        bad_value <- bad[,2]\n",
    "        \n",
    "        good_lm <- lm(DAS28 ~ good[,2], data=good)\n",
    "        good_lm_stats <- summary(good_lm)$fstatistic\n",
    "        good_lm_f_pvalue<- pf(good_lm_stats[1], good_lm_stats[2], good_lm_stats[3], lower.tail=FALSE)\n",
    "        good_value <- good[,2]\n",
    "        good_vs_bad <- wilcox.test(bad_value, good_value) \n",
    "        \n",
    "        if (good_vs_bad$p.value < 0.05){\n",
    "            print (chemID)\n",
    "            print (good_vs_bad$p.value)\n",
    "        }\n",
    "        \n",
    "        \n",
    "        pdf(output_name)\n",
    "        result_plot <- ggplot(data_profile, aes(x = chem_profile, y = DAS28, label=DAS_LABEL)) + \n",
    "        geom_point(color = dplyr::case_when(data_profile$DAS_LABEL > 0 ~ \"#bd2615\", data_profile$DAS_LABEL < 1 ~ \"#1585bd\"), size = 3, alpha = 0.8) +\n",
    "        geom_smooth(method=\"lm\", se=FALSE, aes(colour = \"Single Linear Model\")) +\n",
    "        geom_smooth(method=\"lm\", data=bad, aes(x=bad[,2], y = DAS28, colour = \"No Remission specific LM\"),se=FALSE)+\n",
    "        geom_smooth(method=\"lm\", data=good, aes(x=good[,2], y = DAS28, colour = \"Remission specific LM\"), se=FALSE) +\n",
    "        scale_colour_manual(name=\"legend\", values=c(\"red\", \"blue\", \"black\")) +\n",
    "        xlab(chemID)\n",
    "        print (result_plot)\n",
    "        dev.off()\n",
    "        \n",
    "#         output_name <- paste('/Users/m221138/RA_project/analysis/linear_model_r1/plots/clp/',chemID, \".gm.pdf\", sep=\"\")\n",
    "#         pdf(output_name)\n",
    "#         temp_df <- data.frame(chem_profile, data_profile$DAS28)\n",
    "#         ret <- Mclust(temp_df)\n",
    "#         result_plot <- plot(ret, what = c(\"classification\"))\n",
    "#         print (result_plot)\n",
    "#         dev.off()\n",
    "    }\n",
    "}\n",
    "\n"
   ]
  },
  {
   "cell_type": "code",
   "execution_count": null,
   "metadata": {},
   "outputs": [],
   "source": []
  }
 ],
 "metadata": {
  "kernelspec": {
   "display_name": "R",
   "language": "R",
   "name": "ir"
  },
  "language_info": {
   "codemirror_mode": "r",
   "file_extension": ".r",
   "mimetype": "text/x-r-source",
   "name": "R",
   "pygments_lexer": "r",
   "version": "3.6.1"
  }
 },
 "nbformat": 4,
 "nbformat_minor": 2
}
