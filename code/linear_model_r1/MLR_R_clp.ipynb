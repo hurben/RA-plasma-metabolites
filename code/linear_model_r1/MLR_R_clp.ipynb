{
 "cells": [
  {
   "cell_type": "code",
   "execution_count": 2,
   "metadata": {},
   "outputs": [
    {
     "name": "stderr",
     "output_type": "stream",
     "text": [
      "Loading required package: Matrix\n",
      "\n",
      "Attaching package: ‘lmerTest’\n",
      "\n",
      "The following object is masked from ‘package:lme4’:\n",
      "\n",
      "    lmer\n",
      "\n",
      "The following object is masked from ‘package:stats’:\n",
      "\n",
      "    step\n",
      "\n",
      "Loading required package: carData\n",
      "lattice theme set by effectsTheme()\n",
      "See ?effectsTheme for details.\n"
     ]
    }
   ],
   "source": [
    "library(lme4)\n",
    "library(lmerTest)\n",
    "library(effects)\n",
    "library(stringr)\n"
   ]
  },
  {
   "cell_type": "code",
   "execution_count": 3,
   "metadata": {},
   "outputs": [],
   "source": [
    "data_profile <- read.csv('/Users/m221138/RA_project/analysis/linear_model_r1/MLR.clp.sc.ready.ignor.norm.qc.tsv', sep=\"\\t\", row.names=1, header=TRUE)\n",
    "data_profile <- as.data.frame(t(data_profile))\n",
    "plot_dir <- '/Users/m221138/RA_project/analysis/linear_model_r1/plots/clp/sc'"
   ]
  },
  {
   "cell_type": "code",
   "execution_count": 5,
   "metadata": {},
   "outputs": [
    {
     "data": {
      "text/html": [
       "TRUE"
      ],
      "text/latex": [
       "TRUE"
      ],
      "text/markdown": [
       "TRUE"
      ],
      "text/plain": [
       "[1] TRUE"
      ]
     },
     "metadata": {},
     "output_type": "display_data"
    },
    {
     "name": "stdout",
     "output_type": "stream",
     "text": [
      "[1] 825\n",
      "[1] 128\n",
      "[1] \"LPC(20:3)\"\n",
      "       value        numdf        dendf \n",
      "5.003227e-03 1.000000e+00 1.260000e+02 \n",
      "Linear mixed model fit by REML ['lmerModLmerTest']\n",
      "Formula: DAS ~ chem_profile + SEX + AGE + (1 | patient_dummyID)\n",
      "   Data: data_profile\n",
      "REML criterion at convergence: 420.4308\n",
      "Random effects:\n",
      " Groups          Name        Std.Dev.\n",
      " patient_dummyID (Intercept) 1.0424  \n",
      " Residual                    0.8686  \n",
      "Number of obs: 128, groups:  patient_dummyID, 64\n",
      "Fixed Effects:\n",
      " (Intercept)  chem_profile           SEX           AGE  \n",
      "     3.67579      -0.04106      -0.37121      -0.00678  \n"
     ]
    }
   ],
   "source": [
    "output_txt = '/Users/m221138/RA_project/analysis/linear_model_r1/MLR.clp.sc.tsv'\n",
    "if (file.exists(output_txt)){\n",
    "    file.remove(output_txt)\n",
    "}\n",
    "\n",
    "NUM_CHEM_ID <- ncol(data_profile)\n",
    "NUM_patient_timepoint <- nrow(data_profile)\n",
    "\n",
    "cat('chemID\\tsimpleLRM_Fstatistics\\tmultiLRM(chem_sig)\\tmultiLRM(sex_sig)\\tmultiLRM(age_sig)\\n', file=output_txt, append=TRUE)\n",
    "\n",
    "print (NUM_CHEM_ID)\n",
    "print (NUM_patient_timepoint)\n",
    "\n",
    "for (i in 1:NUM_CHEM_ID){\n",
    "    if (i > 4){\n",
    "        output_string <- ''\n",
    "       \n",
    "        chemID <- colnames(data_profile)[i]\n",
    "        chem_profile <- data_profile[,i]\n",
    "        print (chemID)\n",
    "        \n",
    "        output_pdf <- paste(plot_dir, '/', i, \".pdf\")\n",
    "        output_pdf <- str_replace_all(output_pdf,\" \",\"\")\n",
    "        \n",
    "        simple_LRM <- lm(DAS ~ chem_profile, data=data_profile)\n",
    "        simple_LRM_stats <- summary(simple_LRM)$fstatistic\n",
    "        print (simple_LRM_stats)\n",
    "        simple_LRM_f_pvalue<- pf(simple_LRM_stats[1], simple_LRM_stats[2], simple_LRM_stats[3], lower.tail=FALSE)\n",
    "        simple_LRM_rsquare <- summary(simple_LRM)$adj.r.squared\n",
    "        \n",
    "        multi_LRM <- lmer(DAS ~ chem_profile + SEX + AGE + (1|patient_dummyID), data=data_profile)\n",
    "        print (multi_LRM)\n",
    "        break\n",
    "        chem_sig <- anova(multi_LRM)$Pr[1]\n",
    "        sex_sig <- anova(multi_LRM)$Pr[2]\n",
    "        age_sig <- anova(multi_LRM)$Pr[3]\n",
    "        \n",
    "        output_string <- paste(chemID,\"\\t\", simple_LRM_f_pvalue,\"\\t\", chem_sig, \"\\t\", sex_sig, \"\\t\", age_sig, \"\\n\")\n",
    "        cat(output_string, file=output_txt, append=TRUE)\n",
    "        \n",
    "        plot1 <- allEffects(simple_LRM)\n",
    "        plot2 <- allEffects(multi_LRM)[1]\n",
    "        plot(allEffects(multi_LRM)[1], main=\"MLM\", xlab=chemID)\n",
    "        \n",
    "        if (chem_sig < 0.05){\n",
    "            #pdf(output_pdf)\n",
    "            par(mfrow=c(1,2))\n",
    "            plot(allEffects(simple_LRM), main=\"SLM\")\n",
    "            plot(allEffects(multi_LRM)[1], main=\"MLM\")\n",
    "            #dev.off()\n",
    "        }\n",
    "        break\n",
    "    }\n",
    "}\n"
   ]
  },
  {
   "cell_type": "code",
   "execution_count": null,
   "metadata": {},
   "outputs": [],
   "source": []
  }
 ],
 "metadata": {
  "kernelspec": {
   "display_name": "R",
   "language": "R",
   "name": "ir"
  },
  "language_info": {
   "codemirror_mode": "r",
   "file_extension": ".r",
   "mimetype": "text/x-r-source",
   "name": "R",
   "pygments_lexer": "r",
   "version": "3.6.1"
  }
 },
 "nbformat": 4,
 "nbformat_minor": 2
}
